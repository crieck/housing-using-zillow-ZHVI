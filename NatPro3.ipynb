{
 "cells": [
  {
   "cell_type": "code",
   "execution_count": 1,
   "metadata": {},
   "outputs": [],
   "source": [
    "import pandas as pd\n",
    "import sqlalchemy\n",
    "from sqlalchemy.ext.automap import automap_base\n",
    "from sqlalchemy.orm import Session\n",
    "from sqlalchemy import create_engine, func"
   ]
  },
  {
   "cell_type": "code",
   "execution_count": 2,
   "metadata": {},
   "outputs": [],
   "source": [
    "f1=pd.read_csv('documents/homeworkarchive/p3d/MonthlyListings_NSA_AllHomes_City.csv')"
   ]
  },
  {
   "cell_type": "code",
   "execution_count": 3,
   "metadata": {},
   "outputs": [],
   "source": [
    "f1.columns = f1.columns.str.replace('-','L')"
   ]
  },
  {
   "cell_type": "code",
   "execution_count": 4,
   "metadata": {},
   "outputs": [],
   "source": [
    "f1=f1[f1['StateName']=='MN']"
   ]
  },
  {
   "cell_type": "code",
   "execution_count": 5,
   "metadata": {},
   "outputs": [],
   "source": [
    "f1=f1.drop(['RegionID', 'RegionName', 'StateName','RegionType'], axis=1)"
   ]
  },
  {
   "cell_type": "code",
   "execution_count": 6,
   "metadata": {},
   "outputs": [],
   "source": [
    "f2=pd.read_csv('documents/homeworkarchive/p3d/City_MedianValuePerSqft_AllHomes.csv')"
   ]
  },
  {
   "cell_type": "code",
   "execution_count": 7,
   "metadata": {},
   "outputs": [],
   "source": [
    "f2.columns = f2.columns.str.replace('-','V')"
   ]
  },
  {
   "cell_type": "code",
   "execution_count": 8,
   "metadata": {},
   "outputs": [],
   "source": [
    "f2=f2[f2['State']=='MN']"
   ]
  },
  {
   "cell_type": "code",
   "execution_count": 9,
   "metadata": {
    "scrolled": true
   },
   "outputs": [],
   "source": [
    "f1=f1.set_index('SizeRank').join(f2.set_index('SizeRank'))"
   ]
  },
  {
   "cell_type": "code",
   "execution_count": 10,
   "metadata": {},
   "outputs": [],
   "source": [
    "f1=f1.transpose()"
   ]
  },
  {
   "cell_type": "code",
   "execution_count": 11,
   "metadata": {},
   "outputs": [
    {
     "data": {
      "text/html": [
       "<div>\n",
       "<style scoped>\n",
       "    .dataframe tbody tr th:only-of-type {\n",
       "        vertical-align: middle;\n",
       "    }\n",
       "\n",
       "    .dataframe tbody tr th {\n",
       "        vertical-align: top;\n",
       "    }\n",
       "\n",
       "    .dataframe thead th {\n",
       "        text-align: right;\n",
       "    }\n",
       "</style>\n",
       "<table border=\"1\" class=\"dataframe\">\n",
       "  <thead>\n",
       "    <tr style=\"text-align: right;\">\n",
       "      <th>SizeRank</th>\n",
       "      <th>46</th>\n",
       "      <th>71</th>\n",
       "      <th>278</th>\n",
       "      <th>417</th>\n",
       "      <th>461</th>\n",
       "      <th>531</th>\n",
       "      <th>569</th>\n",
       "      <th>652</th>\n",
       "      <th>656</th>\n",
       "      <th>664</th>\n",
       "      <th>...</th>\n",
       "      <th>6281</th>\n",
       "      <th>6312</th>\n",
       "      <th>6358</th>\n",
       "      <th>6378</th>\n",
       "      <th>6420</th>\n",
       "      <th>6455</th>\n",
       "      <th>6928</th>\n",
       "      <th>6951</th>\n",
       "      <th>7041</th>\n",
       "      <th>7112</th>\n",
       "    </tr>\n",
       "  </thead>\n",
       "  <tbody>\n",
       "    <tr>\n",
       "      <th>2013L01</th>\n",
       "      <td>1082</td>\n",
       "      <td>726</td>\n",
       "      <td>435</td>\n",
       "      <td>532</td>\n",
       "      <td>190</td>\n",
       "      <td>245</td>\n",
       "      <td>256</td>\n",
       "      <td>202</td>\n",
       "      <td>204</td>\n",
       "      <td>149</td>\n",
       "      <td>...</td>\n",
       "      <td>40</td>\n",
       "      <td>NaN</td>\n",
       "      <td>16</td>\n",
       "      <td>48</td>\n",
       "      <td>18</td>\n",
       "      <td>26</td>\n",
       "      <td>31</td>\n",
       "      <td>51</td>\n",
       "      <td>33</td>\n",
       "      <td>18</td>\n",
       "    </tr>\n",
       "    <tr>\n",
       "      <th>2013L02</th>\n",
       "      <td>1072</td>\n",
       "      <td>706</td>\n",
       "      <td>508</td>\n",
       "      <td>512</td>\n",
       "      <td>177</td>\n",
       "      <td>211</td>\n",
       "      <td>244</td>\n",
       "      <td>215</td>\n",
       "      <td>216</td>\n",
       "      <td>136</td>\n",
       "      <td>...</td>\n",
       "      <td>40</td>\n",
       "      <td>NaN</td>\n",
       "      <td>13</td>\n",
       "      <td>46</td>\n",
       "      <td>24</td>\n",
       "      <td>26</td>\n",
       "      <td>27</td>\n",
       "      <td>41</td>\n",
       "      <td>30</td>\n",
       "      <td>19</td>\n",
       "    </tr>\n",
       "    <tr>\n",
       "      <th>2013L03</th>\n",
       "      <td>1142</td>\n",
       "      <td>719</td>\n",
       "      <td>590</td>\n",
       "      <td>564</td>\n",
       "      <td>195</td>\n",
       "      <td>232</td>\n",
       "      <td>255</td>\n",
       "      <td>249</td>\n",
       "      <td>250</td>\n",
       "      <td>138</td>\n",
       "      <td>...</td>\n",
       "      <td>44</td>\n",
       "      <td>NaN</td>\n",
       "      <td>15</td>\n",
       "      <td>48</td>\n",
       "      <td>23</td>\n",
       "      <td>22</td>\n",
       "      <td>27</td>\n",
       "      <td>43</td>\n",
       "      <td>28</td>\n",
       "      <td>15</td>\n",
       "    </tr>\n",
       "    <tr>\n",
       "      <th>2013L04</th>\n",
       "      <td>1251</td>\n",
       "      <td>769</td>\n",
       "      <td>633</td>\n",
       "      <td>623</td>\n",
       "      <td>193</td>\n",
       "      <td>250</td>\n",
       "      <td>280</td>\n",
       "      <td>250</td>\n",
       "      <td>274</td>\n",
       "      <td>133</td>\n",
       "      <td>...</td>\n",
       "      <td>51</td>\n",
       "      <td>NaN</td>\n",
       "      <td>19</td>\n",
       "      <td>48</td>\n",
       "      <td>31</td>\n",
       "      <td>24</td>\n",
       "      <td>25</td>\n",
       "      <td>57</td>\n",
       "      <td>27</td>\n",
       "      <td>16</td>\n",
       "    </tr>\n",
       "    <tr>\n",
       "      <th>2013L05</th>\n",
       "      <td>1347</td>\n",
       "      <td>842</td>\n",
       "      <td>686</td>\n",
       "      <td>680</td>\n",
       "      <td>224</td>\n",
       "      <td>264</td>\n",
       "      <td>347</td>\n",
       "      <td>278</td>\n",
       "      <td>319</td>\n",
       "      <td>193</td>\n",
       "      <td>...</td>\n",
       "      <td>61</td>\n",
       "      <td>NaN</td>\n",
       "      <td>26</td>\n",
       "      <td>64</td>\n",
       "      <td>28</td>\n",
       "      <td>32</td>\n",
       "      <td>33</td>\n",
       "      <td>75</td>\n",
       "      <td>28</td>\n",
       "      <td>16</td>\n",
       "    </tr>\n",
       "  </tbody>\n",
       "</table>\n",
       "<p>5 rows × 139 columns</p>\n",
       "</div>"
      ],
      "text/plain": [
       "SizeRank  46   71   278  417  461  531  569  652  656  664   ... 6281 6312  \\\n",
       "2013L01   1082  726  435  532  190  245  256  202  204  149  ...   40  NaN   \n",
       "2013L02   1072  706  508  512  177  211  244  215  216  136  ...   40  NaN   \n",
       "2013L03   1142  719  590  564  195  232  255  249  250  138  ...   44  NaN   \n",
       "2013L04   1251  769  633  623  193  250  280  250  274  133  ...   51  NaN   \n",
       "2013L05   1347  842  686  680  224  264  347  278  319  193  ...   61  NaN   \n",
       "\n",
       "SizeRank 6358 6378 6420 6455 6928 6951 7041 7112  \n",
       "2013L01    16   48   18   26   31   51   33   18  \n",
       "2013L02    13   46   24   26   27   41   30   19  \n",
       "2013L03    15   48   23   22   27   43   28   15  \n",
       "2013L04    19   48   31   24   25   57   27   16  \n",
       "2013L05    26   64   28   32   33   75   28   16  \n",
       "\n",
       "[5 rows x 139 columns]"
      ]
     },
     "execution_count": 11,
     "metadata": {},
     "output_type": "execute_result"
    }
   ],
   "source": [
    "f1.head()"
   ]
  },
  {
   "cell_type": "code",
   "execution_count": 12,
   "metadata": {},
   "outputs": [],
   "source": [
    "engine = create_engine(\"sqlite:///documents/homeworkarchive/p3d/zdat.sqlite\", pool_pre_ping=True)"
   ]
  },
  {
   "cell_type": "code",
   "execution_count": 14,
   "metadata": {},
   "outputs": [],
   "source": [
    "f1.to_sql('data',con=engine)"
   ]
  },
  {
   "cell_type": "code",
   "execution_count": null,
   "metadata": {},
   "outputs": [],
   "source": []
  }
 ],
 "metadata": {
  "kernelspec": {
   "display_name": "Python 2",
   "language": "python",
   "name": "python2"
  },
  "language_info": {
   "codemirror_mode": {
    "name": "ipython",
    "version": 2
   },
   "file_extension": ".py",
   "mimetype": "text/x-python",
   "name": "python",
   "nbconvert_exporter": "python",
   "pygments_lexer": "ipython2",
   "version": "2.7.15"
  }
 },
 "nbformat": 4,
 "nbformat_minor": 2
}
