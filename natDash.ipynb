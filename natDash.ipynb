{
 "cells": [
  {
   "cell_type": "code",
   "execution_count": null,
   "metadata": {},
   "outputs": [],
   "source": [
    "import dash\n",
    "from dash.dependencies import Input, Output\n",
    "import dash_core_components as dcc\n",
    "import dash_html_components as html\n",
    "\n",
    "import flask\n",
    "import pandas as pd\n",
    "import time\n",
    "import os\n",
    "\n",
    "import sqlite3"
   ]
  },
  {
   "cell_type": "code",
   "execution_count": null,
   "metadata": {},
   "outputs": [],
   "source": [
    "server = flask.Flask('app')\n",
    "server.secret_key = os.environ.get('secret_key', 'secret')\n",
    "\n",
    "conn=sqlite3.connect('documents/homeworkarchive/p3d/zdat.sqlite')\n",
    "c=conn.cursor()\n",
    "c.execute('select * from zilloData;')"
   ]
  },
  {
   "cell_type": "code",
   "execution_count": null,
   "metadata": {},
   "outputs": [],
   "source": [
    "df=pd.read_sql_query('select * from zilloData;',conn)"
   ]
  },
  {
   "cell_type": "code",
   "execution_count": null,
   "metadata": {},
   "outputs": [],
   "source": [
    "app = dash.Dash('app', server=server)\n",
    "app.scripts.config.serve_locally = False\n",
    "server = app.server\n",
    "\n",
    "app.layout = html.Div([\n",
    "    html.H2('Zillo Data'),\n",
    "    dcc.Dropdown(\n",
    "        id='my-dropdown',\n",
    "        options=[{'label': i, 'value': i} for i in df['RegionName']],\n",
    "        value='Minneapolis'\n",
    "    ),\n",
    "    dcc.Graph(id='my-graph')\n",
    "], className=\"container\")\n",
    "\n",
    "@app.callback(Output('my-graph', 'figure'),\n",
    "              [Input('my-dropdown', 'value')])\n",
    "\n",
    "def update_graph(selected_dropdown_value):\n",
    "    dff = df[df['RegionName'] == selected_dropdown_value]\n",
    "    return {\n",
    "        'data': [{\n",
    "            'x': dff.Date,\n",
    "            'y': dff.Number_of_Listings,\n",
    "            'line': {\n",
    "                'width': 3,\n",
    "                'shape': 'spline'\n",
    "            }\n",
    "        }],\n",
    "        'layout': {\n",
    "            'margin': {\n",
    "                'l': 30,\n",
    "                'r': 20,\n",
    "                'b': 30,\n",
    "                't': 20\n",
    "            }\n",
    "        }\n",
    "    }\n",
    "\n",
    "if __name__ == '__main__':\n",
    "    app.run_server()"
   ]
  },
  {
   "cell_type": "code",
   "execution_count": null,
   "metadata": {},
   "outputs": [],
   "source": [
    "%tb"
   ]
  },
  {
   "cell_type": "code",
   "execution_count": null,
   "metadata": {},
   "outputs": [],
   "source": []
  }
 ],
 "metadata": {
  "kernelspec": {
   "display_name": "Python 2",
   "language": "python",
   "name": "python2"
  },
  "language_info": {
   "codemirror_mode": {
    "name": "ipython",
    "version": 2
   },
   "file_extension": ".py",
   "mimetype": "text/x-python",
   "name": "python",
   "nbconvert_exporter": "python",
   "pygments_lexer": "ipython2",
   "version": "2.7.15"
  }
 },
 "nbformat": 4,
 "nbformat_minor": 2
}
