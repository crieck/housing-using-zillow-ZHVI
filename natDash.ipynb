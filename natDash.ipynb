{
 "cells": [
  {
   "cell_type": "code",
   "execution_count": 1,
   "metadata": {},
   "outputs": [],
   "source": [
    "import dash\n",
    "from dash.dependencies import Input, Output\n",
    "import dash_core_components as dcc\n",
    "import dash_html_components as html\n",
    "\n",
    "import flask\n",
    "import pandas as pd\n",
    "import time\n",
    "import os\n",
    "\n",
    "import sqlite3"
   ]
  },
  {
   "cell_type": "code",
   "execution_count": 2,
   "metadata": {},
   "outputs": [
    {
     "data": {
      "text/plain": [
       "<sqlite3.Cursor at 0x1156d7ea0>"
      ]
     },
     "execution_count": 2,
     "metadata": {},
     "output_type": "execute_result"
    }
   ],
   "source": [
    "server = flask.Flask('app')\n",
    "server.secret_key = os.environ.get('secret_key', 'secret')\n",
    "\n",
    "\n",
    "conn=sqlite3.connect('documents/homeworkarchive/p3d/zdat.sqlite')\n",
    "c=conn.cursor()\n",
    "c.execute('select * from zilloData;')"
   ]
  },
  {
   "cell_type": "code",
   "execution_count": 3,
   "metadata": {},
   "outputs": [
    {
     "data": {
      "text/html": [
       "<div>\n",
       "<style scoped>\n",
       "    .dataframe tbody tr th:only-of-type {\n",
       "        vertical-align: middle;\n",
       "    }\n",
       "\n",
       "    .dataframe tbody tr th {\n",
       "        vertical-align: top;\n",
       "    }\n",
       "\n",
       "    .dataframe thead th {\n",
       "        text-align: right;\n",
       "    }\n",
       "</style>\n",
       "<table border=\"1\" class=\"dataframe\">\n",
       "  <thead>\n",
       "    <tr style=\"text-align: right;\">\n",
       "      <th></th>\n",
       "      <th>index</th>\n",
       "      <th>RegionName</th>\n",
       "      <th>Date</th>\n",
       "      <th>Number_of_Listings</th>\n",
       "      <th>Year</th>\n",
       "      <th>Month</th>\n",
       "      <th>Median_sqft_Value</th>\n",
       "    </tr>\n",
       "  </thead>\n",
       "  <tbody>\n",
       "    <tr>\n",
       "      <th>0</th>\n",
       "      <td>0</td>\n",
       "      <td>Minneapolis</td>\n",
       "      <td>2013-01</td>\n",
       "      <td>1082.0</td>\n",
       "      <td>2013</td>\n",
       "      <td>01</td>\n",
       "      <td>151.0</td>\n",
       "    </tr>\n",
       "    <tr>\n",
       "      <th>1</th>\n",
       "      <td>1</td>\n",
       "      <td>Saint Paul</td>\n",
       "      <td>2013-01</td>\n",
       "      <td>726.0</td>\n",
       "      <td>2013</td>\n",
       "      <td>01</td>\n",
       "      <td>108.0</td>\n",
       "    </tr>\n",
       "    <tr>\n",
       "      <th>2</th>\n",
       "      <td>2</td>\n",
       "      <td>Rochester</td>\n",
       "      <td>2013-01</td>\n",
       "      <td>435.0</td>\n",
       "      <td>2013</td>\n",
       "      <td>01</td>\n",
       "      <td>141.0</td>\n",
       "    </tr>\n",
       "    <tr>\n",
       "      <th>3</th>\n",
       "      <td>3</td>\n",
       "      <td>Duluth</td>\n",
       "      <td>2013-01</td>\n",
       "      <td>532.0</td>\n",
       "      <td>2013</td>\n",
       "      <td>01</td>\n",
       "      <td>141.0</td>\n",
       "    </tr>\n",
       "    <tr>\n",
       "      <th>4</th>\n",
       "      <td>4</td>\n",
       "      <td>Bloomington</td>\n",
       "      <td>2013-01</td>\n",
       "      <td>190.0</td>\n",
       "      <td>2013</td>\n",
       "      <td>01</td>\n",
       "      <td>149.0</td>\n",
       "    </tr>\n",
       "  </tbody>\n",
       "</table>\n",
       "</div>"
      ],
      "text/plain": [
       "   index   RegionName     Date  Number_of_Listings  Year Month  \\\n",
       "0      0  Minneapolis  2013-01              1082.0  2013    01   \n",
       "1      1   Saint Paul  2013-01               726.0  2013    01   \n",
       "2      2    Rochester  2013-01               435.0  2013    01   \n",
       "3      3       Duluth  2013-01               532.0  2013    01   \n",
       "4      4  Bloomington  2013-01               190.0  2013    01   \n",
       "\n",
       "   Median_sqft_Value  \n",
       "0              151.0  \n",
       "1              108.0  \n",
       "2              141.0  \n",
       "3              141.0  \n",
       "4              149.0  "
      ]
     },
     "execution_count": 3,
     "metadata": {},
     "output_type": "execute_result"
    }
   ],
   "source": [
    "df=pd.read_sql_query('select * from zilloData;',conn)\n",
    "df.head()"
   ]
  },
  {
   "cell_type": "code",
   "execution_count": null,
   "metadata": {},
   "outputs": [
    {
     "name": "stdout",
     "output_type": "stream",
     "text": [
      " * Serving Flask app \"app\" (lazy loading)\n",
      " * Environment: production\n",
      "   WARNING: Do not use the development server in a production environment.\n",
      "   Use a production WSGI server instead.\n",
      " * Debug mode: off\n"
     ]
    },
    {
     "name": "stderr",
     "output_type": "stream",
     "text": [
      " * Running on http://127.0.0.1:8050/ (Press CTRL+C to quit)\n",
      "127.0.0.1 - - [31/Mar/2019 14:43:56] \"GET / HTTP/1.1\" 200 -\n",
      "127.0.0.1 - - [31/Mar/2019 14:43:57] \"GET /_dash-layout HTTP/1.1\" 200 -\n",
      "127.0.0.1 - - [31/Mar/2019 14:43:57] \"GET /_dash-dependencies HTTP/1.1\" 200 -\n",
      "127.0.0.1 - - [31/Mar/2019 14:43:57] \"POST /_dash-update-component HTTP/1.1\" 200 -\n",
      "127.0.0.1 - - [31/Mar/2019 14:44:43] \"POST /_dash-update-component HTTP/1.1\" 200 -\n",
      "127.0.0.1 - - [31/Mar/2019 14:45:03] \"POST /_dash-update-component HTTP/1.1\" 200 -\n",
      "127.0.0.1 - - [31/Mar/2019 14:46:00] \"POST /_dash-update-component HTTP/1.1\" 200 -\n",
      "127.0.0.1 - - [31/Mar/2019 14:46:11] \"POST /_dash-update-component HTTP/1.1\" 200 -\n",
      "127.0.0.1 - - [31/Mar/2019 14:46:13] \"POST /_dash-update-component HTTP/1.1\" 200 -\n",
      "127.0.0.1 - - [31/Mar/2019 14:46:45] \"POST /_dash-update-component HTTP/1.1\" 200 -\n",
      "127.0.0.1 - - [31/Mar/2019 14:47:07] \"POST /_dash-update-component HTTP/1.1\" 200 -\n",
      "127.0.0.1 - - [31/Mar/2019 14:47:49] \"POST /_dash-update-component HTTP/1.1\" 200 -\n",
      "127.0.0.1 - - [31/Mar/2019 14:48:04] \"POST /_dash-update-component HTTP/1.1\" 200 -\n"
     ]
    }
   ],
   "source": [
    "app = dash.Dash('app', server=server)\n",
    "\n",
    "app.scripts.config.serve_locally = True\n",
    "#dcc._js_dist[0]['external_url'] = df\n",
    "\n",
    "app.layout = html.Div([\n",
    "    html.H1('Zillo Data'),\n",
    "    dcc.Dropdown(\n",
    "        id='my-dropdown',\n",
    "        options=[\n",
    "            {'label': 'Minneapolis', 'value': 'Minneapolis'},\n",
    "            {'label': 'Saint Paul', 'value': 'Saint Paul'},\n",
    "            {'label': 'Rochester', 'value': 'Rochester'}\n",
    "        ],\n",
    "        value='Minneapolis'\n",
    "    ),\n",
    "    dcc.Graph(id='my-graph')\n",
    "], className=\"container\")\n",
    "\n",
    "@app.callback(Output('my-graph', 'figure'),\n",
    "              [Input('my-dropdown', 'value')])\n",
    "\n",
    "def update_graph(selected_dropdown_value):\n",
    "    dff = df[df['RegionName'] == selected_dropdown_value]\n",
    "    return {\n",
    "        'data': [{\n",
    "            'x': dff.Date,\n",
    "            'y': dff.Number_of_Listings,\n",
    "            'line': {\n",
    "                'width': 3,\n",
    "                'shape': 'spline'\n",
    "            }\n",
    "        }],\n",
    "        'layout': {\n",
    "            'margin': {\n",
    "                'l': 30,\n",
    "                'r': 20,\n",
    "                'b': 30,\n",
    "                't': 20\n",
    "            }\n",
    "        }\n",
    "    }\n",
    "\n",
    "if __name__ == '__main__':\n",
    "    app.run_server()"
   ]
  },
  {
   "cell_type": "code",
   "execution_count": null,
   "metadata": {},
   "outputs": [],
   "source": []
  }
 ],
 "metadata": {
  "kernelspec": {
   "display_name": "Python 2",
   "language": "python",
   "name": "python2"
  },
  "language_info": {
   "codemirror_mode": {
    "name": "ipython",
    "version": 2
   },
   "file_extension": ".py",
   "mimetype": "text/x-python",
   "name": "python",
   "nbconvert_exporter": "python",
   "pygments_lexer": "ipython2",
   "version": "2.7.15"
  }
 },
 "nbformat": 4,
 "nbformat_minor": 2
}
