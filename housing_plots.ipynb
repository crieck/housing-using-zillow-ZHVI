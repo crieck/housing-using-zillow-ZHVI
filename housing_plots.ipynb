{
 "cells": [
  {
   "cell_type": "markdown",
   "metadata": {},
   "source": [
    "## Why it’s extremely difficult to buy a first home in Minnesota right now? \n",
    "> Why it’s extremely difficult to buy a first home in Minnesota right now? You want to buy a house of your own. You can’t find a lot in your price range. "
   ]
  },
  {
   "cell_type": "markdown",
   "metadata": {},
   "source": [
    "<img src=\"images/zillow_icon.png\" alt=\"Alt text that describes the graphic\" title=\"Title text\" />  Thank you Zillow!\n",
    "> Using Zillow we will demonstrate how several factors, including rising home prices, high demand and low inventory have conspired to make now an especially difficult time to get a foot in the door of home ownership. "
   ]
  },
  {
   "cell_type": "code",
   "execution_count": 1,
   "metadata": {},
   "outputs": [],
   "source": [
    "import pandas as pd\n",
    "import sqlalchemy\n",
    "from sqlalchemy.ext.automap import automap_base\n",
    "from sqlalchemy.orm import Session\n",
    "from sqlalchemy import create_engine, func\n",
    "import datetime as dt\n",
    "from dateutil.relativedelta import relativedelta\n",
    "from datetime import datetime\n",
    "#%matplotlib notebook\n",
    "import matplotlib.pyplot as plt\n",
    "import numpy as np"
   ]
  },
  {
   "cell_type": "code",
   "execution_count": 2,
   "metadata": {},
   "outputs": [],
   "source": [
    "engine = create_engine(\"sqlite:///zdatNew.sqlite\")\n",
    "conn = engine.connect()"
   ]
  },
  {
   "cell_type": "code",
   "execution_count": 3,
   "metadata": {},
   "outputs": [],
   "source": [
    "# To push the objects made and query the server we use a Session object\n",
    "session = Session(bind=engine)"
   ]
  },
  {
   "cell_type": "code",
   "execution_count": 4,
   "metadata": {},
   "outputs": [],
   "source": [
    "Zillow_data_df = pd.read_sql('select * from zilloData', conn) #medianvalue is the table with sales prices\n",
    "#medianvalue_df = pd.read_sql('select * from medianvalue', conn)\n"
   ]
  },
  {
   "cell_type": "markdown",
   "metadata": {},
   "source": [
    "### Now we are ready to get the values we need "
   ]
  },
  {
   "cell_type": "markdown",
   "metadata": {},
   "source": [
    "<img src=\"images/data-cleaning4.png\" alt=\"Alt text that describes the graphic\" title=\"Title text\" /> "
   ]
  },
  {
   "cell_type": "code",
   "execution_count": 5,
   "metadata": {},
   "outputs": [
    {
     "data": {
      "text/html": [
       "<div>\n",
       "<style scoped>\n",
       "    .dataframe tbody tr th:only-of-type {\n",
       "        vertical-align: middle;\n",
       "    }\n",
       "\n",
       "    .dataframe tbody tr th {\n",
       "        vertical-align: top;\n",
       "    }\n",
       "\n",
       "    .dataframe thead th {\n",
       "        text-align: right;\n",
       "    }\n",
       "</style>\n",
       "<table border=\"1\" class=\"dataframe\">\n",
       "  <thead>\n",
       "    <tr style=\"text-align: right;\">\n",
       "      <th></th>\n",
       "      <th>index</th>\n",
       "      <th>RegionName</th>\n",
       "      <th>Date</th>\n",
       "      <th>Number_of_Listings</th>\n",
       "      <th>Year</th>\n",
       "      <th>Month</th>\n",
       "      <th>Median_sqft_Value</th>\n",
       "    </tr>\n",
       "  </thead>\n",
       "  <tbody>\n",
       "    <tr>\n",
       "      <th>0</th>\n",
       "      <td>0</td>\n",
       "      <td>Minneapolis</td>\n",
       "      <td>2013-01</td>\n",
       "      <td>1082.0</td>\n",
       "      <td>2013</td>\n",
       "      <td>01</td>\n",
       "      <td>151.0</td>\n",
       "    </tr>\n",
       "    <tr>\n",
       "      <th>1</th>\n",
       "      <td>1</td>\n",
       "      <td>Saint Paul</td>\n",
       "      <td>2013-01</td>\n",
       "      <td>726.0</td>\n",
       "      <td>2013</td>\n",
       "      <td>01</td>\n",
       "      <td>108.0</td>\n",
       "    </tr>\n",
       "    <tr>\n",
       "      <th>2</th>\n",
       "      <td>2</td>\n",
       "      <td>Rochester</td>\n",
       "      <td>2013-01</td>\n",
       "      <td>435.0</td>\n",
       "      <td>2013</td>\n",
       "      <td>01</td>\n",
       "      <td>141.0</td>\n",
       "    </tr>\n",
       "    <tr>\n",
       "      <th>3</th>\n",
       "      <td>3</td>\n",
       "      <td>Duluth</td>\n",
       "      <td>2013-01</td>\n",
       "      <td>532.0</td>\n",
       "      <td>2013</td>\n",
       "      <td>01</td>\n",
       "      <td>141.0</td>\n",
       "    </tr>\n",
       "    <tr>\n",
       "      <th>4</th>\n",
       "      <td>4</td>\n",
       "      <td>Bloomington</td>\n",
       "      <td>2013-01</td>\n",
       "      <td>190.0</td>\n",
       "      <td>2013</td>\n",
       "      <td>01</td>\n",
       "      <td>149.0</td>\n",
       "    </tr>\n",
       "  </tbody>\n",
       "</table>\n",
       "</div>"
      ],
      "text/plain": [
       "   index   RegionName     Date  Number_of_Listings  Year Month  \\\n",
       "0      0  Minneapolis  2013-01              1082.0  2013    01   \n",
       "1      1   Saint Paul  2013-01               726.0  2013    01   \n",
       "2      2    Rochester  2013-01               435.0  2013    01   \n",
       "3      3       Duluth  2013-01               532.0  2013    01   \n",
       "4      4  Bloomington  2013-01               190.0  2013    01   \n",
       "\n",
       "   Median_sqft_Value  \n",
       "0              151.0  \n",
       "1              108.0  \n",
       "2              141.0  \n",
       "3              141.0  \n",
       "4              149.0  "
      ]
     },
     "execution_count": 5,
     "metadata": {},
     "output_type": "execute_result"
    }
   ],
   "source": [
    "\n",
    "Zillow_data_df.head()"
   ]
  },
  {
   "cell_type": "code",
   "execution_count": 6,
   "metadata": {},
   "outputs": [
    {
     "data": {
      "text/html": [
       "<div>\n",
       "<style scoped>\n",
       "    .dataframe tbody tr th:only-of-type {\n",
       "        vertical-align: middle;\n",
       "    }\n",
       "\n",
       "    .dataframe tbody tr th {\n",
       "        vertical-align: top;\n",
       "    }\n",
       "\n",
       "    .dataframe thead th {\n",
       "        text-align: right;\n",
       "    }\n",
       "</style>\n",
       "<table border=\"1\" class=\"dataframe\">\n",
       "  <thead>\n",
       "    <tr style=\"text-align: right;\">\n",
       "      <th></th>\n",
       "      <th>index</th>\n",
       "      <th>RegionName</th>\n",
       "      <th>Date</th>\n",
       "      <th>Number_of_Listings</th>\n",
       "      <th>Year</th>\n",
       "      <th>Month</th>\n",
       "      <th>Median_sqft_Value</th>\n",
       "    </tr>\n",
       "  </thead>\n",
       "  <tbody>\n",
       "    <tr>\n",
       "      <th>0</th>\n",
       "      <td>0</td>\n",
       "      <td>Minneapolis</td>\n",
       "      <td>2013-01</td>\n",
       "      <td>1082.0</td>\n",
       "      <td>2013</td>\n",
       "      <td>01</td>\n",
       "      <td>151.0</td>\n",
       "    </tr>\n",
       "    <tr>\n",
       "      <th>1</th>\n",
       "      <td>1</td>\n",
       "      <td>Saint Paul</td>\n",
       "      <td>2013-01</td>\n",
       "      <td>726.0</td>\n",
       "      <td>2013</td>\n",
       "      <td>01</td>\n",
       "      <td>108.0</td>\n",
       "    </tr>\n",
       "    <tr>\n",
       "      <th>2</th>\n",
       "      <td>2</td>\n",
       "      <td>Rochester</td>\n",
       "      <td>2013-01</td>\n",
       "      <td>435.0</td>\n",
       "      <td>2013</td>\n",
       "      <td>01</td>\n",
       "      <td>141.0</td>\n",
       "    </tr>\n",
       "    <tr>\n",
       "      <th>3</th>\n",
       "      <td>3</td>\n",
       "      <td>Duluth</td>\n",
       "      <td>2013-01</td>\n",
       "      <td>532.0</td>\n",
       "      <td>2013</td>\n",
       "      <td>01</td>\n",
       "      <td>141.0</td>\n",
       "    </tr>\n",
       "    <tr>\n",
       "      <th>4</th>\n",
       "      <td>4</td>\n",
       "      <td>Bloomington</td>\n",
       "      <td>2013-01</td>\n",
       "      <td>190.0</td>\n",
       "      <td>2013</td>\n",
       "      <td>01</td>\n",
       "      <td>149.0</td>\n",
       "    </tr>\n",
       "  </tbody>\n",
       "</table>\n",
       "</div>"
      ],
      "text/plain": [
       "   index   RegionName     Date  Number_of_Listings  Year Month  \\\n",
       "0      0  Minneapolis  2013-01              1082.0  2013    01   \n",
       "1      1   Saint Paul  2013-01               726.0  2013    01   \n",
       "2      2    Rochester  2013-01               435.0  2013    01   \n",
       "3      3       Duluth  2013-01               532.0  2013    01   \n",
       "4      4  Bloomington  2013-01               190.0  2013    01   \n",
       "\n",
       "   Median_sqft_Value  \n",
       "0              151.0  \n",
       "1              108.0  \n",
       "2              141.0  \n",
       "3              141.0  \n",
       "4              149.0  "
      ]
     },
     "execution_count": 6,
     "metadata": {},
     "output_type": "execute_result"
    }
   ],
   "source": [
    "Zillow_data_df.set_index('RegionName')\n",
    "Zillow_data_df.head()"
   ]
  },
  {
   "cell_type": "markdown",
   "metadata": {},
   "source": [
    "##### We will look at listings in Minneapolis and St. Paul only "
   ]
  },
  {
   "cell_type": "code",
   "execution_count": 7,
   "metadata": {},
   "outputs": [],
   "source": [
    "#Cleaning the data\n",
    "#scale down the table to only include Minneapolis and St.Paul\n",
    "\n",
    "array = ['Minneapolis', 'Saint Paul']\n",
    "TwinCitiesListings_df = Zillow_data_df.loc[Zillow_data_df['RegionName'].isin(array)]"
   ]
  },
  {
   "cell_type": "code",
   "execution_count": 8,
   "metadata": {},
   "outputs": [],
   "source": [
    "#TwinCities_listings_by_month['date'] = TwinCities_listings_by_month['index']\n",
    "TwinCitiesListings_df = TwinCitiesListings_df.drop('index',axis = 1)\n"
   ]
  },
  {
   "cell_type": "markdown",
   "metadata": {},
   "source": [
    "#### Number of listings and median value per square foot for Minneapolis and St. Paul for each month 2013 - 2019 "
   ]
  },
  {
   "cell_type": "code",
   "execution_count": 9,
   "metadata": {},
   "outputs": [
    {
     "data": {
      "text/html": [
       "<div>\n",
       "<style scoped>\n",
       "    .dataframe tbody tr th:only-of-type {\n",
       "        vertical-align: middle;\n",
       "    }\n",
       "\n",
       "    .dataframe tbody tr th {\n",
       "        vertical-align: top;\n",
       "    }\n",
       "\n",
       "    .dataframe thead th {\n",
       "        text-align: right;\n",
       "    }\n",
       "</style>\n",
       "<table border=\"1\" class=\"dataframe\">\n",
       "  <thead>\n",
       "    <tr style=\"text-align: right;\">\n",
       "      <th></th>\n",
       "      <th>RegionName</th>\n",
       "      <th>Date</th>\n",
       "      <th>Number_of_Listings</th>\n",
       "      <th>Year</th>\n",
       "      <th>Month</th>\n",
       "      <th>Median_sqft_Value</th>\n",
       "    </tr>\n",
       "  </thead>\n",
       "  <tbody>\n",
       "    <tr>\n",
       "      <th>0</th>\n",
       "      <td>Minneapolis</td>\n",
       "      <td>2013-01</td>\n",
       "      <td>1082.0</td>\n",
       "      <td>2013</td>\n",
       "      <td>01</td>\n",
       "      <td>151.0</td>\n",
       "    </tr>\n",
       "    <tr>\n",
       "      <th>1</th>\n",
       "      <td>Saint Paul</td>\n",
       "      <td>2013-01</td>\n",
       "      <td>726.0</td>\n",
       "      <td>2013</td>\n",
       "      <td>01</td>\n",
       "      <td>108.0</td>\n",
       "    </tr>\n",
       "    <tr>\n",
       "      <th>139</th>\n",
       "      <td>Minneapolis</td>\n",
       "      <td>2013-02</td>\n",
       "      <td>1072.0</td>\n",
       "      <td>2013</td>\n",
       "      <td>02</td>\n",
       "      <td>153.0</td>\n",
       "    </tr>\n",
       "    <tr>\n",
       "      <th>140</th>\n",
       "      <td>Saint Paul</td>\n",
       "      <td>2013-02</td>\n",
       "      <td>706.0</td>\n",
       "      <td>2013</td>\n",
       "      <td>02</td>\n",
       "      <td>109.0</td>\n",
       "    </tr>\n",
       "    <tr>\n",
       "      <th>278</th>\n",
       "      <td>Minneapolis</td>\n",
       "      <td>2013-03</td>\n",
       "      <td>1142.0</td>\n",
       "      <td>2013</td>\n",
       "      <td>03</td>\n",
       "      <td>153.0</td>\n",
       "    </tr>\n",
       "  </tbody>\n",
       "</table>\n",
       "</div>"
      ],
      "text/plain": [
       "      RegionName     Date  Number_of_Listings  Year Month  Median_sqft_Value\n",
       "0    Minneapolis  2013-01              1082.0  2013    01              151.0\n",
       "1     Saint Paul  2013-01               726.0  2013    01              108.0\n",
       "139  Minneapolis  2013-02              1072.0  2013    02              153.0\n",
       "140   Saint Paul  2013-02               706.0  2013    02              109.0\n",
       "278  Minneapolis  2013-03              1142.0  2013    03              153.0"
      ]
     },
     "execution_count": 9,
     "metadata": {},
     "output_type": "execute_result"
    }
   ],
   "source": [
    "TwinCitiesListings_df.head(5)"
   ]
  },
  {
   "cell_type": "markdown",
   "metadata": {},
   "source": [
    "#### Number of listings and median sqft values for the Mpls and St. Paul combined (Twins Cities) for each year 2013 - 2019 "
   ]
  },
  {
   "cell_type": "code",
   "execution_count": 10,
   "metadata": {},
   "outputs": [],
   "source": [
    "listings_by_year = TwinCitiesListings_df.groupby(\"Year\")[\"Number_of_Listings\"].sum()\n",
    "sqft_values = TwinCitiesListings_df.groupby(\"Year\")[\"Median_sqft_Value\"].sum()\n",
    "listings_by_year = pd.DataFrame(listings_by_year)\n",
    "listings_by_year['sqft_cost'] = sqft_values\n",
    "listings_by_year= listings_by_year.reset_index()"
   ]
  },
  {
   "cell_type": "code",
   "execution_count": 11,
   "metadata": {},
   "outputs": [
    {
     "data": {
      "text/html": [
       "<div>\n",
       "<style scoped>\n",
       "    .dataframe tbody tr th:only-of-type {\n",
       "        vertical-align: middle;\n",
       "    }\n",
       "\n",
       "    .dataframe tbody tr th {\n",
       "        vertical-align: top;\n",
       "    }\n",
       "\n",
       "    .dataframe thead th {\n",
       "        text-align: right;\n",
       "    }\n",
       "</style>\n",
       "<table border=\"1\" class=\"dataframe\">\n",
       "  <thead>\n",
       "    <tr style=\"text-align: right;\">\n",
       "      <th></th>\n",
       "      <th>Year</th>\n",
       "      <th>Number_of_Listings</th>\n",
       "      <th>sqft_cost</th>\n",
       "    </tr>\n",
       "  </thead>\n",
       "  <tbody>\n",
       "    <tr>\n",
       "      <th>0</th>\n",
       "      <td>2013</td>\n",
       "      <td>25913.0</td>\n",
       "      <td>3289.0</td>\n",
       "    </tr>\n",
       "    <tr>\n",
       "      <th>1</th>\n",
       "      <td>2014</td>\n",
       "      <td>29229.0</td>\n",
       "      <td>3642.0</td>\n",
       "    </tr>\n",
       "    <tr>\n",
       "      <th>2</th>\n",
       "      <td>2015</td>\n",
       "      <td>27598.0</td>\n",
       "      <td>3870.0</td>\n",
       "    </tr>\n",
       "    <tr>\n",
       "      <th>3</th>\n",
       "      <td>2016</td>\n",
       "      <td>25696.0</td>\n",
       "      <td>4192.0</td>\n",
       "    </tr>\n",
       "    <tr>\n",
       "      <th>4</th>\n",
       "      <td>2017</td>\n",
       "      <td>19411.0</td>\n",
       "      <td>4575.0</td>\n",
       "    </tr>\n",
       "  </tbody>\n",
       "</table>\n",
       "</div>"
      ],
      "text/plain": [
       "   Year  Number_of_Listings  sqft_cost\n",
       "0  2013             25913.0     3289.0\n",
       "1  2014             29229.0     3642.0\n",
       "2  2015             27598.0     3870.0\n",
       "3  2016             25696.0     4192.0\n",
       "4  2017             19411.0     4575.0"
      ]
     },
     "execution_count": 11,
     "metadata": {},
     "output_type": "execute_result"
    }
   ],
   "source": [
    "listings_by_year.head()"
   ]
  },
  {
   "cell_type": "markdown",
   "metadata": {},
   "source": [
    "#### Max Median Cost per square foot for each year 2013 - 2019\n",
    ">  _**Note 2019 only has one month of data_\n"
   ]
  },
  {
   "cell_type": "code",
   "execution_count": 12,
   "metadata": {},
   "outputs": [
    {
     "data": {
      "text/html": [
       "<div>\n",
       "<style scoped>\n",
       "    .dataframe tbody tr th:only-of-type {\n",
       "        vertical-align: middle;\n",
       "    }\n",
       "\n",
       "    .dataframe tbody tr th {\n",
       "        vertical-align: top;\n",
       "    }\n",
       "\n",
       "    .dataframe thead th {\n",
       "        text-align: right;\n",
       "    }\n",
       "</style>\n",
       "<table border=\"1\" class=\"dataframe\">\n",
       "  <thead>\n",
       "    <tr style=\"text-align: right;\">\n",
       "      <th></th>\n",
       "      <th>RegionName</th>\n",
       "      <th>Date</th>\n",
       "      <th>Number_of_Listings</th>\n",
       "      <th>Year</th>\n",
       "      <th>Month</th>\n",
       "      <th>Median_sqft_Value</th>\n",
       "    </tr>\n",
       "  </thead>\n",
       "  <tbody>\n",
       "    <tr>\n",
       "      <th>1390</th>\n",
       "      <td>Minneapolis</td>\n",
       "      <td>2013-11</td>\n",
       "      <td>1408.0</td>\n",
       "      <td>2013</td>\n",
       "      <td>11</td>\n",
       "      <td>165.0</td>\n",
       "    </tr>\n",
       "    <tr>\n",
       "      <th>3197</th>\n",
       "      <td>Minneapolis</td>\n",
       "      <td>2014-12</td>\n",
       "      <td>1304.0</td>\n",
       "      <td>2014</td>\n",
       "      <td>12</td>\n",
       "      <td>173.0</td>\n",
       "    </tr>\n",
       "    <tr>\n",
       "      <th>4865</th>\n",
       "      <td>Minneapolis</td>\n",
       "      <td>2015-12</td>\n",
       "      <td>1073.0</td>\n",
       "      <td>2015</td>\n",
       "      <td>12</td>\n",
       "      <td>187.0</td>\n",
       "    </tr>\n",
       "    <tr>\n",
       "      <th>6533</th>\n",
       "      <td>Minneapolis</td>\n",
       "      <td>2016-12</td>\n",
       "      <td>738.0</td>\n",
       "      <td>2016</td>\n",
       "      <td>12</td>\n",
       "      <td>203.0</td>\n",
       "    </tr>\n",
       "    <tr>\n",
       "      <th>8201</th>\n",
       "      <td>Minneapolis</td>\n",
       "      <td>2017-12</td>\n",
       "      <td>698.0</td>\n",
       "      <td>2017</td>\n",
       "      <td>12</td>\n",
       "      <td>219.0</td>\n",
       "    </tr>\n",
       "    <tr>\n",
       "      <th>9869</th>\n",
       "      <td>Minneapolis</td>\n",
       "      <td>2018-12</td>\n",
       "      <td>888.0</td>\n",
       "      <td>2018</td>\n",
       "      <td>12</td>\n",
       "      <td>233.0</td>\n",
       "    </tr>\n",
       "    <tr>\n",
       "      <th>10008</th>\n",
       "      <td>Minneapolis</td>\n",
       "      <td>2019-01</td>\n",
       "      <td>870.0</td>\n",
       "      <td>2019</td>\n",
       "      <td>01</td>\n",
       "      <td>234.0</td>\n",
       "    </tr>\n",
       "  </tbody>\n",
       "</table>\n",
       "</div>"
      ],
      "text/plain": [
       "        RegionName     Date  Number_of_Listings  Year Month  Median_sqft_Value\n",
       "1390   Minneapolis  2013-11              1408.0  2013    11              165.0\n",
       "3197   Minneapolis  2014-12              1304.0  2014    12              173.0\n",
       "4865   Minneapolis  2015-12              1073.0  2015    12              187.0\n",
       "6533   Minneapolis  2016-12               738.0  2016    12              203.0\n",
       "8201   Minneapolis  2017-12               698.0  2017    12              219.0\n",
       "9869   Minneapolis  2018-12               888.0  2018    12              233.0\n",
       "10008  Minneapolis  2019-01               870.0  2019    01              234.0"
      ]
     },
     "execution_count": 12,
     "metadata": {},
     "output_type": "execute_result"
    }
   ],
   "source": [
    "Max_cost_per_sqft = TwinCitiesListings_df.loc[TwinCitiesListings_df.groupby('Year')['Median_sqft_Value'].idxmax()]\n",
    "Max_cost_per_sqft"
   ]
  },
  {
   "cell_type": "markdown",
   "metadata": {},
   "source": [
    "#### Number of listings and the median cost per square foot in the Twins Cities for the month of June from 2013 - 2019 "
   ]
  },
  {
   "cell_type": "code",
   "execution_count": 13,
   "metadata": {},
   "outputs": [
    {
     "data": {
      "text/html": [
       "<div>\n",
       "<style scoped>\n",
       "    .dataframe tbody tr th:only-of-type {\n",
       "        vertical-align: middle;\n",
       "    }\n",
       "\n",
       "    .dataframe tbody tr th {\n",
       "        vertical-align: top;\n",
       "    }\n",
       "\n",
       "    .dataframe thead th {\n",
       "        text-align: right;\n",
       "    }\n",
       "</style>\n",
       "<table border=\"1\" class=\"dataframe\">\n",
       "  <thead>\n",
       "    <tr style=\"text-align: right;\">\n",
       "      <th></th>\n",
       "      <th>RegionName</th>\n",
       "      <th>Date</th>\n",
       "      <th>Number_of_Listings</th>\n",
       "      <th>Year</th>\n",
       "      <th>Month</th>\n",
       "      <th>Median_sqft_Value</th>\n",
       "    </tr>\n",
       "  </thead>\n",
       "  <tbody>\n",
       "    <tr>\n",
       "      <th>695</th>\n",
       "      <td>Minneapolis</td>\n",
       "      <td>2013-06</td>\n",
       "      <td>1368.0</td>\n",
       "      <td>2013</td>\n",
       "      <td>06</td>\n",
       "      <td>155.0</td>\n",
       "    </tr>\n",
       "    <tr>\n",
       "      <th>696</th>\n",
       "      <td>Saint Paul</td>\n",
       "      <td>2013-06</td>\n",
       "      <td>817.0</td>\n",
       "      <td>2013</td>\n",
       "      <td>06</td>\n",
       "      <td>114.0</td>\n",
       "    </tr>\n",
       "    <tr>\n",
       "      <th>2363</th>\n",
       "      <td>Minneapolis</td>\n",
       "      <td>2014-06</td>\n",
       "      <td>1564.0</td>\n",
       "      <td>2014</td>\n",
       "      <td>06</td>\n",
       "      <td>172.0</td>\n",
       "    </tr>\n",
       "    <tr>\n",
       "      <th>2364</th>\n",
       "      <td>Saint Paul</td>\n",
       "      <td>2014-06</td>\n",
       "      <td>1117.0</td>\n",
       "      <td>2014</td>\n",
       "      <td>06</td>\n",
       "      <td>133.0</td>\n",
       "    </tr>\n",
       "    <tr>\n",
       "      <th>4031</th>\n",
       "      <td>Minneapolis</td>\n",
       "      <td>2015-06</td>\n",
       "      <td>1488.0</td>\n",
       "      <td>2015</td>\n",
       "      <td>06</td>\n",
       "      <td>180.0</td>\n",
       "    </tr>\n",
       "    <tr>\n",
       "      <th>4032</th>\n",
       "      <td>Saint Paul</td>\n",
       "      <td>2015-06</td>\n",
       "      <td>1009.0</td>\n",
       "      <td>2015</td>\n",
       "      <td>06</td>\n",
       "      <td>141.0</td>\n",
       "    </tr>\n",
       "    <tr>\n",
       "      <th>5699</th>\n",
       "      <td>Minneapolis</td>\n",
       "      <td>2016-06</td>\n",
       "      <td>1499.0</td>\n",
       "      <td>2016</td>\n",
       "      <td>06</td>\n",
       "      <td>195.0</td>\n",
       "    </tr>\n",
       "    <tr>\n",
       "      <th>5700</th>\n",
       "      <td>Saint Paul</td>\n",
       "      <td>2016-06</td>\n",
       "      <td>1169.0</td>\n",
       "      <td>2016</td>\n",
       "      <td>06</td>\n",
       "      <td>151.0</td>\n",
       "    </tr>\n",
       "    <tr>\n",
       "      <th>7367</th>\n",
       "      <td>Minneapolis</td>\n",
       "      <td>2017-06</td>\n",
       "      <td>1014.0</td>\n",
       "      <td>2017</td>\n",
       "      <td>06</td>\n",
       "      <td>212.0</td>\n",
       "    </tr>\n",
       "    <tr>\n",
       "      <th>7368</th>\n",
       "      <td>Saint Paul</td>\n",
       "      <td>2017-06</td>\n",
       "      <td>691.0</td>\n",
       "      <td>2017</td>\n",
       "      <td>06</td>\n",
       "      <td>170.0</td>\n",
       "    </tr>\n",
       "    <tr>\n",
       "      <th>9035</th>\n",
       "      <td>Minneapolis</td>\n",
       "      <td>2018-06</td>\n",
       "      <td>1120.0</td>\n",
       "      <td>2018</td>\n",
       "      <td>06</td>\n",
       "      <td>230.0</td>\n",
       "    </tr>\n",
       "    <tr>\n",
       "      <th>9036</th>\n",
       "      <td>Saint Paul</td>\n",
       "      <td>2018-06</td>\n",
       "      <td>716.0</td>\n",
       "      <td>2018</td>\n",
       "      <td>06</td>\n",
       "      <td>183.0</td>\n",
       "    </tr>\n",
       "  </tbody>\n",
       "</table>\n",
       "</div>"
      ],
      "text/plain": [
       "       RegionName     Date  Number_of_Listings  Year Month  Median_sqft_Value\n",
       "695   Minneapolis  2013-06              1368.0  2013    06              155.0\n",
       "696    Saint Paul  2013-06               817.0  2013    06              114.0\n",
       "2363  Minneapolis  2014-06              1564.0  2014    06              172.0\n",
       "2364   Saint Paul  2014-06              1117.0  2014    06              133.0\n",
       "4031  Minneapolis  2015-06              1488.0  2015    06              180.0\n",
       "4032   Saint Paul  2015-06              1009.0  2015    06              141.0\n",
       "5699  Minneapolis  2016-06              1499.0  2016    06              195.0\n",
       "5700   Saint Paul  2016-06              1169.0  2016    06              151.0\n",
       "7367  Minneapolis  2017-06              1014.0  2017    06              212.0\n",
       "7368   Saint Paul  2017-06               691.0  2017    06              170.0\n",
       "9035  Minneapolis  2018-06              1120.0  2018    06              230.0\n",
       "9036   Saint Paul  2018-06               716.0  2018    06              183.0"
      ]
     },
     "execution_count": 13,
     "metadata": {},
     "output_type": "execute_result"
    }
   ],
   "source": [
    "listings_june = TwinCitiesListings_df.loc[TwinCitiesListings_df['Month'] == '06']\n",
    "listings_june\n"
   ]
  },
  {
   "cell_type": "markdown",
   "metadata": {},
   "source": [
    "### Let's Plot! "
   ]
  },
  {
   "cell_type": "markdown",
   "metadata": {},
   "source": [
    "#### How to Normalize "
   ]
  },
  {
   "cell_type": "code",
   "execution_count": 14,
   "metadata": {},
   "outputs": [
    {
     "data": {
      "text/plain": [
       "Index(['Year', 'Number_of_Listings', 'sqft_cost'], dtype='object')"
      ]
     },
     "execution_count": 14,
     "metadata": {},
     "output_type": "execute_result"
    }
   ],
   "source": [
    "listings_by_year.keys()"
   ]
  },
  {
   "cell_type": "code",
   "execution_count": 15,
   "metadata": {},
   "outputs": [],
   "source": [
    "#Normalize by year\n",
    "listings_test = listings_by_year.assign(sqft_values_norm = listings_by_year.sqft_cost.values / listings_by_year.sqft_cost.values.max(),\n",
    "                                num_listings_norm = listings_by_year.Number_of_Listings.values / listings_by_year.Number_of_Listings.values.max())"
   ]
  },
  {
   "cell_type": "code",
   "execution_count": 16,
   "metadata": {},
   "outputs": [
    {
     "data": {
      "text/plain": [
       "Index(['Year', 'Number_of_Listings', 'sqft_cost', 'sqft_values_norm',\n",
       "       'num_listings_norm'],\n",
       "      dtype='object')"
      ]
     },
     "execution_count": 16,
     "metadata": {},
     "output_type": "execute_result"
    }
   ],
   "source": [
    "listings_test.keys()"
   ]
  },
  {
   "cell_type": "markdown",
   "metadata": {},
   "source": [
    "##### NOT Normalized bar chart"
   ]
  },
  {
   "cell_type": "code",
   "execution_count": 17,
   "metadata": {},
   "outputs": [
    {
     "data": {
      "image/png": "[encoded data removed]",
      "text/plain": [
       "<Figure size 432x288 with 1 Axes>"
      ]
     },
     "metadata": {
      "needs_background": "light"
     },
     "output_type": "display_data"
    }
   ],
   "source": [
    "median_chart = listings_by_year.plot(x = 'Year',y=['sqft_cost', 'Number_of_Listings'], kind='bar')\n",
    "\n",
    "plt.show()\n"
   ]
  },
  {
   "cell_type": "markdown",
   "metadata": {},
   "source": [
    "#### NORMALIZED!! Bar chart"
   ]
  },
  {
   "cell_type": "markdown",
   "metadata": {},
   "source": [
    "### Here you can see that as the median cost of houses rise the number of listing get lower"
   ]
  },
  {
   "cell_type": "code",
   "execution_count": 18,
   "metadata": {},
   "outputs": [
    {
     "data": {
      "image/png": "[encoded data removed]",
      "text/plain": [
       "<Figure size 1080x504 with 1 Axes>"
      ]
     },
     "metadata": {
      "needs_background": "light"
     },
     "output_type": "display_data"
    },
    {
     "data": {
      "text/plain": [
       "<Figure size 1440x720 with 0 Axes>"
      ]
     },
     "metadata": {},
     "output_type": "display_data"
    }
   ],
   "source": [
    "\n",
    "median_chart = listings_test.plot(x = 'Year',y=['sqft_values_norm', 'num_listings_norm'], figsize=(15,7), kind='bar')\n",
    "plt.figure(figsize=(20,10))\n",
    "\n",
    "plt.show()"
   ]
  },
  {
   "cell_type": "code",
   "execution_count": 19,
   "metadata": {},
   "outputs": [
    {
     "data": {
      "text/plain": [
       "([<matplotlib.patches.Wedge at 0x1f4c256c7f0>,\n",
       "  <matplotlib.patches.Wedge at 0x1f4c256cef0>,\n",
       "  <matplotlib.patches.Wedge at 0x1f4c2572630>,\n",
       "  <matplotlib.patches.Wedge at 0x1f4c2572d30>,\n",
       "  <matplotlib.patches.Wedge at 0x1f4c257e470>,\n",
       "  <matplotlib.patches.Wedge at 0x1f4c257eb70>,\n",
       "  <matplotlib.patches.Wedge at 0x1f4c25872b0>],\n",
       " [Text(-1.0539570884387184, 0.3149197607800749, '2013'),\n",
       "  Text(-0.9267022647234999, -0.5926406268189319, '2014'),\n",
       "  Text(-0.07745311341283559, -1.097269800560764, '2015'),\n",
       "  Text(0.8811743898332548, -0.6584312376414042, '2016'),\n",
       "  Text(0.9927604186259387, 0.4737370063755324, '2017'),\n",
       "  Text(-0.05815454703121194, 1.0984616737326773, '2018'),\n",
       "  Text(-0.7644806845414049, 0.7909293792514633, '2019')],\n",
       " [Text(-0.5748856846029372, 0.17177441497094992, '13.0%'),\n",
       "  Text(-0.5054739625764544, -0.3232585237194174, '14.4%'),\n",
       "  Text(-0.042247152770637585, -0.5985108003058712, '15.3%'),\n",
       "  Text(0.48064057627268436, -0.35914431144076586, '16.5%'),\n",
       "  Text(0.5415056828868756, 0.2584020034775631, '18.1%'),\n",
       "  Text(-0.03172066201702469, 0.5991609129450967, '19.5%'),\n",
       "  Text(-0.41698946429531175, 0.4314160250462527, '3.3%')])"
      ]
     },
     "execution_count": 19,
     "metadata": {},
     "output_type": "execute_result"
    },
    {
     "data": {
      "image/png": "[encoded data removed]",
      "text/plain": [
       "<Figure size 720x720 with 1 Axes>"
      ]
     },
     "metadata": {},
     "output_type": "display_data"
    }
   ],
   "source": [
    "import matplotlib.pyplot as plt\n",
    "\n",
    "plt.figure(figsize=(10,10))\n",
    "\n",
    "# Labels for the sections of our pie chart\n",
    "labels_cost = listings_by_year['Year']\n",
    "labels_listings = listings_by_year['Year']\n",
    "\n",
    "cost_data = listings_by_year['sqft_cost']\n",
    "Listings_data = listings_by_year['Number_of_Listings']\n",
    "\n",
    "# Set a Title and labels\n",
    "plt.title(\"Median Cost per Square Foot\")\n",
    "\n",
    "# Create axes which are equal so we have a perfect circle\n",
    "plt.axis(\"equal\")\n",
    "\n",
    "# Creates the pie chart based upon the values above\n",
    "# Automatically finds the percentages of each part of the pie chart\n",
    "plt.pie(cost_data, labels=labels_cost, autopct=\"%1.1f%%\", startangle=140)\n",
    "\n",
    "#median_pie = listings_by_year.plot(x = ['sqft_cost', 'Number_of_Listings'],y=['sqft_cost', 'Number_of_Listings'], kind='pie')\n"
   ]
  },
  {
   "cell_type": "code",
   "execution_count": 20,
   "metadata": {},
   "outputs": [
    {
     "data": {
      "text/plain": [
       "([<matplotlib.patches.Wedge at 0x1f4c2542128>,\n",
       "  <matplotlib.patches.Wedge at 0x1f4c2542828>,\n",
       "  <matplotlib.patches.Wedge at 0x1f4c2542ef0>,\n",
       "  <matplotlib.patches.Wedge at 0x1f4c254b630>,\n",
       "  <matplotlib.patches.Wedge at 0x1f4c254bd30>,\n",
       "  <matplotlib.patches.Wedge at 0x1f4c2555470>,\n",
       "  <matplotlib.patches.Wedge at 0x1f4c2555b70>],\n",
       " [Text(-1.0861337516303418, 0.1741076493707248, '2013'),\n",
       "  Text(-0.6050143126462578, -0.9186716940742087, '2014'),\n",
       "  Text(0.6211479112528608, -0.9078409950790988, '2015'),\n",
       "  Text(1.0895179598959608, 0.1514946040759998, '2016'),\n",
       "  Text(0.5216373134833625, 0.9684495408547935, '2017'),\n",
       "  Text(-0.3630723756983889, 1.0383537210434257, '2018'),\n",
       "  Text(-0.8026040075605263, 0.7522146017246559, '2019')],\n",
       " [Text(-0.5924365917983682, 0.09496780874766807, '17.2%'),\n",
       "  Text(-0.3300078068979588, -0.5010936513132047, '19.4%'),\n",
       "  Text(0.3388079515924695, -0.495185997315872, '18.3%'),\n",
       "  Text(0.5942825235796149, 0.08263342040509078, '17.0%'),\n",
       "  Text(0.28452944371819766, 0.5282452041026146, '12.9%'),\n",
       "  Text(-0.19803947765366664, 0.5663747569327776, '13.6%'),\n",
       "  Text(-0.4377840041239234, 0.4102988736679941, '1.7%')])"
      ]
     },
     "execution_count": 20,
     "metadata": {},
     "output_type": "execute_result"
    },
    {
     "data": {
      "image/png": "[encoded data removed]",
      "text/plain": [
       "<Figure size 720x720 with 1 Axes>"
      ]
     },
     "metadata": {},
     "output_type": "display_data"
    }
   ],
   "source": [
    "plt.figure(figsize=(10,10))\n",
    "# Set a Title and labels\n",
    "plt.title(\"Number of Listings\")\n",
    "# Create axes which are equal so we have a perfect circle\n",
    "plt.axis(\"equal\")\n",
    "\n",
    "plt.pie(Listings_data, labels=labels_listings, autopct=\"%1.1f%%\", startangle=140)"
   ]
  },
  {
   "cell_type": "code",
   "execution_count": 21,
   "metadata": {},
   "outputs": [
    {
     "data": {
      "text/plain": [
       "([<matplotlib.patches.Wedge at 0x1f4c28cecf8>,\n",
       "  <matplotlib.patches.Wedge at 0x1f4c28d7470>,\n",
       "  <matplotlib.patches.Wedge at 0x1f4c28d7b70>,\n",
       "  <matplotlib.patches.Wedge at 0x1f4c2a302b0>,\n",
       "  <matplotlib.patches.Wedge at 0x1f4c2a309b0>,\n",
       "  <matplotlib.patches.Wedge at 0x1f4c2a390f0>,\n",
       "  <matplotlib.patches.Wedge at 0x1f4c2a397f0>],\n",
       " [Text(-1.0861337516303418, 0.1741076493707248, '2013'),\n",
       "  Text(-0.6050143126462578, -0.9186716940742087, '2014'),\n",
       "  Text(0.6211479112528608, -0.9078409950790988, '2015'),\n",
       "  Text(1.0895179598959608, 0.1514946040759998, '2016'),\n",
       "  Text(0.5216373134833625, 0.9684495408547935, '2017'),\n",
       "  Text(-0.3630723756983889, 1.0383537210434257, '2018'),\n",
       "  Text(-0.8026040075605263, 0.7522146017246559, '2019')],\n",
       " [Text(-0.5924365917983682, 0.09496780874766807, '17.2%'),\n",
       "  Text(-0.3300078068979588, -0.5010936513132047, '19.4%'),\n",
       "  Text(0.3388079515924695, -0.495185997315872, '18.3%'),\n",
       "  Text(0.5942825235796149, 0.08263342040509078, '17.0%'),\n",
       "  Text(0.28452944371819766, 0.5282452041026146, '12.9%'),\n",
       "  Text(-0.19803947765366664, 0.5663747569327776, '13.6%'),\n",
       "  Text(-0.4377840041239234, 0.4102988736679941, '1.7%')])"
      ]
     },
     "execution_count": 21,
     "metadata": {},
     "output_type": "execute_result"
    },
    {
     "data": {
      "image/png": "[encoded data removed]",
      "text/plain": [
       "<Figure size 720x720 with 1 Axes>"
      ]
     },
     "metadata": {},
     "output_type": "display_data"
    }
   ],
   "source": [
    "plt.figure(figsize=(10,10))\n",
    "# Set a Title and labels\n",
    "plt.title(\"Number of Listings\")\n",
    "\n",
    "plt.pie(Listings_data, labels=labels_listings, autopct=\"%1.1f%%\", startangle=140)"
   ]
  },
  {
   "cell_type": "markdown",
   "metadata": {},
   "source": [
    "#### Here are the number of listings at the highest median cost of housing  "
   ]
  },
  {
   "cell_type": "code",
   "execution_count": 22,
   "metadata": {},
   "outputs": [],
   "source": [
    "#Normalize by year\n",
    "listings_max = Max_cost_per_sqft.assign(sqft_values_norm = Max_cost_per_sqft.Median_sqft_Value.values / Max_cost_per_sqft.Median_sqft_Value.values.max(),\n",
    "                                num_listings_norm = Max_cost_per_sqft.Number_of_Listings.values / Max_cost_per_sqft.Number_of_Listings.values.max())"
   ]
  },
  {
   "cell_type": "code",
   "execution_count": 23,
   "metadata": {},
   "outputs": [
    {
     "data": {
      "image/png": "[encoded data removed]",
      "text/plain": [
       "<Figure size 1080x504 with 1 Axes>"
      ]
     },
     "metadata": {
      "needs_background": "light"
     },
     "output_type": "display_data"
    }
   ],
   "source": [
    "Max_chart = listings_max.plot(x ='Year',y=['Median_sqft_Value', 'Number_of_Listings'], figsize=(15,7), kind='bar') "
   ]
  },
  {
   "cell_type": "markdown",
   "metadata": {},
   "source": [
    "### Here you can see the rise in cost from 2013 - 2019 "
   ]
  },
  {
   "cell_type": "code",
   "execution_count": 24,
   "metadata": {},
   "outputs": [],
   "source": [
    "#Normalize by year\n",
    "June_listings = listings_june.assign(sqft_values_norm = listings_june.Median_sqft_Value.values / listings_june.Median_sqft_Value.values.max(),\n",
    "                                num_listings_norm = listings_june.Number_of_Listings.values / listings_june.Number_of_Listings.values.max())"
   ]
  },
  {
   "cell_type": "code",
   "execution_count": 25,
   "metadata": {},
   "outputs": [
    {
     "data": {
      "image/png": "[encoded data removed]",
      "text/plain": [
       "<Figure size 1080x504 with 1 Axes>"
      ]
     },
     "metadata": {
      "needs_background": "light"
     },
     "output_type": "display_data"
    }
   ],
   "source": [
    "june_chart = listings_june.plot(x ='RegionName',y=['Median_sqft_Value'], figsize=(15,7), kind='bar')\n",
    "\n",
    "plt.show()\n"
   ]
  },
  {
   "cell_type": "raw",
   "metadata": {},
   "source": [
    "Find the max cost per square foot. How much was it. What month and year did it occur and how many listings were available at that time\n",
    "\n",
    "Find the min cost, when how many\n",
    "\n",
    "Find the min available, when what cost\n",
    "\n",
    "Find the max available, when what cost"
   ]
  }
 ],
 "metadata": {
  "kernelspec": {
   "display_name": "Python 3",
   "language": "python",
   "name": "python3"
  },
  "language_info": {
   "codemirror_mode": {
    "name": "ipython",
    "version": 3
   },
   "file_extension": ".py",
   "mimetype": "text/x-python",
   "name": "python",
   "nbconvert_exporter": "python",
   "pygments_lexer": "ipython3",
   "version": "3.7.1"
  }
 },
 "nbformat": 4,
 "nbformat_minor": 2
}
