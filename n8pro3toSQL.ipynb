{
 "cells": [
  {
   "cell_type": "code",
   "execution_count": 1,
   "metadata": {},
   "outputs": [],
   "source": [
    "import pandas as pd"
   ]
  },
  {
   "cell_type": "code",
   "execution_count": 2,
   "metadata": {},
   "outputs": [],
   "source": [
    "#import the monthly listings csv\n",
    "ml=pd.read_csv('documents/homeworkarchive/p3d/MonthlyListings_NSA_AllHomes_City.csv')"
   ]
  },
  {
   "cell_type": "code",
   "execution_count": 3,
   "metadata": {},
   "outputs": [],
   "source": [
    "#filter to just minnesota\n",
    "ml=ml[ml['StateName']=='MN']"
   ]
  },
  {
   "cell_type": "code",
   "execution_count": 4,
   "metadata": {},
   "outputs": [],
   "source": [
    "#drop excess columns\n",
    "ml=ml.drop(['SizeRank','RegionID', 'RegionType','StateName'], axis=1)"
   ]
  },
  {
   "cell_type": "code",
   "execution_count": 5,
   "metadata": {},
   "outputs": [],
   "source": [
    "#transpose and group the dates\n",
    "ml=pd.melt(ml,id_vars=['RegionName'],var_name='Date',value_name='Number_of_Listings')"
   ]
  },
  {
   "cell_type": "code",
   "execution_count": 6,
   "metadata": {},
   "outputs": [],
   "source": [
    "#add two columns to split the date information by month and year\n",
    "ml=ml.join(ml['Date'].str.split('-',expand=True).rename(columns={0:'Year',1:'Month'}))"
   ]
  },
  {
   "cell_type": "code",
   "execution_count": 7,
   "metadata": {},
   "outputs": [],
   "source": [
    "#import the monthly median values csv\n",
    "mv=pd.read_csv('documents/homeworkarchive/p3d/City_MedianValuePerSqft_AllHomes.csv')"
   ]
  },
  {
   "cell_type": "code",
   "execution_count": 8,
   "metadata": {},
   "outputs": [],
   "source": [
    "#filter to just minnesota\n",
    "mv=mv[mv['State']=='MN']"
   ]
  },
  {
   "cell_type": "code",
   "execution_count": 9,
   "metadata": {},
   "outputs": [],
   "source": [
    "#drop excess columns\n",
    "mv=mv.drop(['RegionID','State', 'Metro','CountyName','SizeRank'], axis=1)"
   ]
  },
  {
   "cell_type": "code",
   "execution_count": 10,
   "metadata": {},
   "outputs": [],
   "source": [
    "#transpose and group the data\n",
    "mv=pd.melt(mv,id_vars=['RegionName'],var_name='Date',value_name='Median_sqft_Value')"
   ]
  },
  {
   "cell_type": "code",
   "execution_count": 11,
   "metadata": {},
   "outputs": [],
   "source": [
    "#merge dataframes\n",
    "zdat=pd.merge(ml, mv, on=['RegionName', 'Date'], how='left')"
   ]
  },
  {
   "cell_type": "code",
   "execution_count": 12,
   "metadata": {},
   "outputs": [
    {
     "data": {
      "text/html": [
       "<div>\n",
       "<style scoped>\n",
       "    .dataframe tbody tr th:only-of-type {\n",
       "        vertical-align: middle;\n",
       "    }\n",
       "\n",
       "    .dataframe tbody tr th {\n",
       "        vertical-align: top;\n",
       "    }\n",
       "\n",
       "    .dataframe thead th {\n",
       "        text-align: right;\n",
       "    }\n",
       "</style>\n",
       "<table border=\"1\" class=\"dataframe\">\n",
       "  <thead>\n",
       "    <tr style=\"text-align: right;\">\n",
       "      <th></th>\n",
       "      <th>RegionName</th>\n",
       "      <th>Date</th>\n",
       "      <th>Number_of_Listings</th>\n",
       "      <th>Year</th>\n",
       "      <th>Month</th>\n",
       "      <th>Median_sqft_Value</th>\n",
       "    </tr>\n",
       "  </thead>\n",
       "  <tbody>\n",
       "    <tr>\n",
       "      <th>0</th>\n",
       "      <td>Minneapolis</td>\n",
       "      <td>2013-01</td>\n",
       "      <td>1082.0</td>\n",
       "      <td>2013</td>\n",
       "      <td>01</td>\n",
       "      <td>151.0</td>\n",
       "    </tr>\n",
       "    <tr>\n",
       "      <th>1</th>\n",
       "      <td>Saint Paul</td>\n",
       "      <td>2013-01</td>\n",
       "      <td>726.0</td>\n",
       "      <td>2013</td>\n",
       "      <td>01</td>\n",
       "      <td>108.0</td>\n",
       "    </tr>\n",
       "    <tr>\n",
       "      <th>2</th>\n",
       "      <td>Rochester</td>\n",
       "      <td>2013-01</td>\n",
       "      <td>435.0</td>\n",
       "      <td>2013</td>\n",
       "      <td>01</td>\n",
       "      <td>141.0</td>\n",
       "    </tr>\n",
       "    <tr>\n",
       "      <th>3</th>\n",
       "      <td>Duluth</td>\n",
       "      <td>2013-01</td>\n",
       "      <td>532.0</td>\n",
       "      <td>2013</td>\n",
       "      <td>01</td>\n",
       "      <td>141.0</td>\n",
       "    </tr>\n",
       "    <tr>\n",
       "      <th>4</th>\n",
       "      <td>Bloomington</td>\n",
       "      <td>2013-01</td>\n",
       "      <td>190.0</td>\n",
       "      <td>2013</td>\n",
       "      <td>01</td>\n",
       "      <td>149.0</td>\n",
       "    </tr>\n",
       "  </tbody>\n",
       "</table>\n",
       "</div>"
      ],
      "text/plain": [
       "    RegionName     Date  Number_of_Listings  Year Month  Median_sqft_Value\n",
       "0  Minneapolis  2013-01              1082.0  2013    01              151.0\n",
       "1   Saint Paul  2013-01               726.0  2013    01              108.0\n",
       "2    Rochester  2013-01               435.0  2013    01              141.0\n",
       "3       Duluth  2013-01               532.0  2013    01              141.0\n",
       "4  Bloomington  2013-01               190.0  2013    01              149.0"
      ]
     },
     "execution_count": 12,
     "metadata": {},
     "output_type": "execute_result"
    }
   ],
   "source": [
    "zdat.head()"
   ]
  },
  {
   "cell_type": "code",
   "execution_count": 13,
   "metadata": {},
   "outputs": [],
   "source": [
    "import sqlalchemy\n",
    "from sqlalchemy.ext.automap import automap_base\n",
    "from sqlalchemy.orm import Session\n",
    "from sqlalchemy import create_engine, func"
   ]
  },
  {
   "cell_type": "code",
   "execution_count": 14,
   "metadata": {},
   "outputs": [],
   "source": [
    "engine = create_engine(\"sqlite:///documents/homeworkarchive/p3d/zdat.sqlite\", pool_pre_ping=True)"
   ]
  },
  {
   "cell_type": "code",
   "execution_count": 15,
   "metadata": {},
   "outputs": [],
   "source": [
    "zdat.to_sql('zilloData',con=engine)"
   ]
  },
  {
   "cell_type": "code",
   "execution_count": null,
   "metadata": {},
   "outputs": [],
   "source": []
  }
 ],
 "metadata": {
  "kernelspec": {
   "display_name": "Python 2",
   "language": "python",
   "name": "python2"
  },
  "language_info": {
   "codemirror_mode": {
    "name": "ipython",
    "version": 2
   },
   "file_extension": ".py",
   "mimetype": "text/x-python",
   "name": "python",
   "nbconvert_exporter": "python",
   "pygments_lexer": "ipython2",
   "version": "2.7.15"
  }
 },
 "nbformat": 4,
 "nbformat_minor": 2
}
