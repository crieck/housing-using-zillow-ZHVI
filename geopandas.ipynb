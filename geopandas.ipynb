{
 "cells": [
  {
   "cell_type": "code",
   "execution_count": null,
   "metadata": {},
   "outputs": [],
   "source": [
    "#trying to get our data to function through geopandas\n",
    "#I was trying to simply get the file to run through matplot/geopandas but the shp file was\n",
    "#way too big to get anything to run\n",
    "\n",
    "\n",
    "\n",
    "\n",
    "\n",
    "import geopandas\n",
    "from matplotlib import pyplot as plt\n",
    "%matplotlib inline\n",
    "%pylab\n",
    "import pandas as pd\n",
    "pd.options.display.max_rows=4"
   ]
  },
  {
   "cell_type": "code",
   "execution_count": null,
   "metadata": {},
   "outputs": [],
   "source": [
    "df=geopandas.read_file('documents/homeworkarchive/p3d/City_Boundaries_in_Minnesota.shp')"
   ]
  },
  {
   "cell_type": "code",
   "execution_count": null,
   "metadata": {},
   "outputs": [],
   "source": [
    "df=df.drop(0)"
   ]
  },
  {
   "cell_type": "code",
   "execution_count": null,
   "metadata": {},
   "outputs": [],
   "source": [
    "df.head()"
   ]
  },
  {
   "cell_type": "code",
   "execution_count": null,
   "metadata": {},
   "outputs": [],
   "source": [
    "bounds=df.bounds\n",
    "bounds"
   ]
  },
  {
   "cell_type": "code",
   "execution_count": null,
   "metadata": {},
   "outputs": [],
   "source": [
    "bounds.min()\n",
    "bounds.max()"
   ]
  },
  {
   "cell_type": "code",
   "execution_count": null,
   "metadata": {},
   "outputs": [],
   "source": [
    "df=df[(bounds['minx']<470000)&(bounds['maxx']>470000)\n",
    "     &(bounds['miny']<5550000)&(bounds['maxy']>5500000)]"
   ]
  },
  {
   "cell_type": "code",
   "execution_count": null,
   "metadata": {},
   "outputs": [],
   "source": [
    "df=df[df['FEATURE_NA'] !='Twin Lakes']"
   ]
  },
  {
   "cell_type": "code",
   "execution_count": null,
   "metadata": {},
   "outputs": [],
   "source": [
    "#   fig, ax = plt.subplots(figsize(12,10), subplot_kw={'aspect':'equal'})\n",
    "#   df.plot(column='FEATURE_NA', legend=True, ax=ax)\n",
    "#   ax.set_xlim(710000, 700000)\n",
    "#   ax.set_ylim(5440000, 5440000)\n",
    "\n",
    "\n",
    "fig, ax = plt.subplots(figsize=(12,10), subplot_kw={'aspect':'equal'})\n",
    "df.plot(column='FEATURE_NA', legend=True, ax=ax)\n",
    "ax.set_xlim(710000, 700000)\n",
    "ax.set_ylim(5440000, 5440000)"
   ]
  },
  {
   "cell_type": "code",
   "execution_count": null,
   "metadata": {},
   "outputs": [],
   "source": [
    "df.total_bounds"
   ]
  },
  {
   "cell_type": "code",
   "execution_count": null,
   "metadata": {},
   "outputs": [],
   "source": []
  }
 ],
 "metadata": {
  "kernelspec": {
   "display_name": "Python 2",
   "language": "python",
   "name": "python2"
  },
  "language_info": {
   "codemirror_mode": {
    "name": "ipython",
    "version": 2
   },
   "file_extension": ".py",
   "mimetype": "text/x-python",
   "name": "python",
   "nbconvert_exporter": "python",
   "pygments_lexer": "ipython2",
   "version": "2.7.15"
  }
 },
 "nbformat": 4,
 "nbformat_minor": 2
}
