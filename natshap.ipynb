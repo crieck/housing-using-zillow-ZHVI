{
 "cells": [
  {
   "cell_type": "code",
   "execution_count": 1,
   "metadata": {},
   "outputs": [],
   "source": [
    "#here I actually got some stuff to run in the end though I couldnt get past the dict argument error\n",
    "\n",
    "\n",
    "\n",
    "import shapefile"
   ]
  },
  {
   "cell_type": "code",
   "execution_count": 2,
   "metadata": {},
   "outputs": [
    {
     "ename": "ShapefileException",
     "evalue": "Unable to open documents/homeworkarchive/p3d/ZillowNeighborhoods-MN.dbf or documents/homeworkarchive/p3d/ZillowNeighborhoods-MN.shp.",
     "output_type": "error",
     "traceback": [
      "\u001b[0;31m---------------------------------------------------------------------------\u001b[0m",
      "\u001b[0;31mShapefileException\u001b[0m                        Traceback (most recent call last)",
      "\u001b[0;32m<ipython-input-2-c964441b296e>\u001b[0m in \u001b[0;36m<module>\u001b[0;34m()\u001b[0m\n\u001b[0;32m----> 1\u001b[0;31m \u001b[0msf\u001b[0m \u001b[0;34m=\u001b[0m \u001b[0mshapefile\u001b[0m\u001b[0;34m.\u001b[0m\u001b[0mReader\u001b[0m\u001b[0;34m(\u001b[0m\u001b[0;34m'documents/homeworkarchive/p3d/ZillowNeighborhoods-MN.shp'\u001b[0m\u001b[0;34m)\u001b[0m\u001b[0;34m\u001b[0m\u001b[0m\n\u001b[0m",
      "\u001b[0;32m/anaconda3/lib/python2.7/site-packages/shapefile.pyc\u001b[0m in \u001b[0;36m__init__\u001b[0;34m(self, *args, **kwargs)\u001b[0m\n\u001b[1;32m    515\u001b[0m         \u001b[0;32mif\u001b[0m \u001b[0mlen\u001b[0m\u001b[0;34m(\u001b[0m\u001b[0margs\u001b[0m\u001b[0;34m)\u001b[0m \u001b[0;34m>\u001b[0m \u001b[0;36m0\u001b[0m\u001b[0;34m:\u001b[0m\u001b[0;34m\u001b[0m\u001b[0m\n\u001b[1;32m    516\u001b[0m             \u001b[0;32mif\u001b[0m \u001b[0mis_string\u001b[0m\u001b[0;34m(\u001b[0m\u001b[0margs\u001b[0m\u001b[0;34m[\u001b[0m\u001b[0;36m0\u001b[0m\u001b[0;34m]\u001b[0m\u001b[0;34m)\u001b[0m\u001b[0;34m:\u001b[0m\u001b[0;34m\u001b[0m\u001b[0m\n\u001b[0;32m--> 517\u001b[0;31m                 \u001b[0mself\u001b[0m\u001b[0;34m.\u001b[0m\u001b[0mload\u001b[0m\u001b[0;34m(\u001b[0m\u001b[0margs\u001b[0m\u001b[0;34m[\u001b[0m\u001b[0;36m0\u001b[0m\u001b[0;34m]\u001b[0m\u001b[0;34m)\u001b[0m\u001b[0;34m\u001b[0m\u001b[0m\n\u001b[0m\u001b[1;32m    518\u001b[0m                 \u001b[0;32mreturn\u001b[0m\u001b[0;34m\u001b[0m\u001b[0m\n\u001b[1;32m    519\u001b[0m         \u001b[0;32mif\u001b[0m \u001b[0;34m\"shp\"\u001b[0m \u001b[0;32min\u001b[0m \u001b[0mkwargs\u001b[0m\u001b[0;34m.\u001b[0m\u001b[0mkeys\u001b[0m\u001b[0;34m(\u001b[0m\u001b[0;34m)\u001b[0m\u001b[0;34m:\u001b[0m\u001b[0;34m\u001b[0m\u001b[0m\n",
      "\u001b[0;32m/anaconda3/lib/python2.7/site-packages/shapefile.pyc\u001b[0m in \u001b[0;36mload\u001b[0;34m(self, shapefile)\u001b[0m\n\u001b[1;32m    610\u001b[0m             \u001b[0mself\u001b[0m\u001b[0;34m.\u001b[0m\u001b[0mload_dbf\u001b[0m\u001b[0;34m(\u001b[0m\u001b[0mshapeName\u001b[0m\u001b[0;34m)\u001b[0m\u001b[0;34m\u001b[0m\u001b[0m\n\u001b[1;32m    611\u001b[0m             \u001b[0;32mif\u001b[0m \u001b[0;32mnot\u001b[0m \u001b[0;34m(\u001b[0m\u001b[0mself\u001b[0m\u001b[0;34m.\u001b[0m\u001b[0mshp\u001b[0m \u001b[0;32mor\u001b[0m \u001b[0mself\u001b[0m\u001b[0;34m.\u001b[0m\u001b[0mdbf\u001b[0m\u001b[0;34m)\u001b[0m\u001b[0;34m:\u001b[0m\u001b[0;34m\u001b[0m\u001b[0m\n\u001b[0;32m--> 612\u001b[0;31m                 \u001b[0;32mraise\u001b[0m \u001b[0mShapefileException\u001b[0m\u001b[0;34m(\u001b[0m\u001b[0;34m\"Unable to open %s.dbf or %s.shp.\"\u001b[0m \u001b[0;34m%\u001b[0m \u001b[0;34m(\u001b[0m\u001b[0mshapeName\u001b[0m\u001b[0;34m,\u001b[0m \u001b[0mshapeName\u001b[0m\u001b[0;34m)\u001b[0m\u001b[0;34m)\u001b[0m\u001b[0;34m\u001b[0m\u001b[0m\n\u001b[0m\u001b[1;32m    613\u001b[0m         \u001b[0;32mif\u001b[0m \u001b[0mself\u001b[0m\u001b[0;34m.\u001b[0m\u001b[0mshp\u001b[0m\u001b[0;34m:\u001b[0m\u001b[0;34m\u001b[0m\u001b[0m\n\u001b[1;32m    614\u001b[0m             \u001b[0mself\u001b[0m\u001b[0;34m.\u001b[0m\u001b[0m__shpHeader\u001b[0m\u001b[0;34m(\u001b[0m\u001b[0;34m)\u001b[0m\u001b[0;34m\u001b[0m\u001b[0m\n",
      "\u001b[0;31mShapefileException\u001b[0m: Unable to open documents/homeworkarchive/p3d/ZillowNeighborhoods-MN.dbf or documents/homeworkarchive/p3d/ZillowNeighborhoods-MN.shp."
     ]
    }
   ],
   "source": [
    "sf = shapefile.Reader('documents/homeworkarchive/p3d/ZillowNeighborhoods-MN.shp')"
   ]
  },
  {
   "cell_type": "code",
   "execution_count": 3,
   "metadata": {},
   "outputs": [
    {
     "name": "stdout",
     "output_type": "stream",
     "text": [
      "shapefile Reader\n",
      "    291 shapes (type 'POLYGON')\n",
      "    291 records (6 fields)\n"
     ]
    }
   ],
   "source": [
    "with shapefile.Reader('documents/homeworkarchive/p3d/ZillowNeighborhoods-MN.shp') as shp:\n",
    "    print(shp)"
   ]
  },
  {
   "cell_type": "code",
   "execution_count": 4,
   "metadata": {},
   "outputs": [
    {
     "data": {
      "text/plain": [
       "True"
      ]
     },
     "execution_count": 4,
     "metadata": {},
     "output_type": "execute_result"
    }
   ],
   "source": [
    "sf.shapeType == shapefile.POLYGON"
   ]
  },
  {
   "cell_type": "code",
   "execution_count": 9,
   "metadata": {},
   "outputs": [
    {
     "data": {
      "text/plain": [
       "291"
      ]
     },
     "execution_count": 9,
     "metadata": {},
     "output_type": "execute_result"
    }
   ],
   "source": [
    "len(sf)"
   ]
  },
  {
   "cell_type": "code",
   "execution_count": 10,
   "metadata": {},
   "outputs": [
    {
     "data": {
      "text/plain": [
       "[-94.19842473499995, 43.977802643000075, -91.90399131199996, 46.88727613000003]"
      ]
     },
     "execution_count": 10,
     "metadata": {},
     "output_type": "execute_result"
    }
   ],
   "source": [
    "sf.bbox"
   ]
  },
  {
   "cell_type": "code",
   "execution_count": 14,
   "metadata": {},
   "outputs": [],
   "source": [
    "shapeRecs = sf.shapeRecords()"
   ]
  },
  {
   "cell_type": "code",
   "execution_count": 16,
   "metadata": {},
   "outputs": [
    {
     "data": {
      "text/plain": [
       "[<shapefile.ShapeRecord at 0x108d8e510>,\n",
       " <shapefile.ShapeRecord at 0x108d8e550>,\n",
       " <shapefile.ShapeRecord at 0x108d8e590>,\n",
       " <shapefile.ShapeRecord at 0x108d8e5d0>,\n",
       " <shapefile.ShapeRecord at 0x108d8e610>,\n",
       " <shapefile.ShapeRecord at 0x108d8e650>,\n",
       " <shapefile.ShapeRecord at 0x108d8e690>,\n",
       " <shapefile.ShapeRecord at 0x108d8e6d0>,\n",
       " <shapefile.ShapeRecord at 0x108d8e710>,\n",
       " <shapefile.ShapeRecord at 0x108d8e750>,\n",
       " <shapefile.ShapeRecord at 0x108d8e790>,\n",
       " <shapefile.ShapeRecord at 0x108d8e7d0>,\n",
       " <shapefile.ShapeRecord at 0x108d8e810>,\n",
       " <shapefile.ShapeRecord at 0x108d8e850>,\n",
       " <shapefile.ShapeRecord at 0x108d8e890>,\n",
       " <shapefile.ShapeRecord at 0x108d8e8d0>,\n",
       " <shapefile.ShapeRecord at 0x108d8e910>,\n",
       " <shapefile.ShapeRecord at 0x108d8e950>,\n",
       " <shapefile.ShapeRecord at 0x108d8e990>,\n",
       " <shapefile.ShapeRecord at 0x108d8e9d0>,\n",
       " <shapefile.ShapeRecord at 0x108d8ea10>,\n",
       " <shapefile.ShapeRecord at 0x108d8ea50>,\n",
       " <shapefile.ShapeRecord at 0x108d8ea90>,\n",
       " <shapefile.ShapeRecord at 0x108d8ead0>,\n",
       " <shapefile.ShapeRecord at 0x108d8eb10>,\n",
       " <shapefile.ShapeRecord at 0x108d8eb50>,\n",
       " <shapefile.ShapeRecord at 0x108d8eb90>,\n",
       " <shapefile.ShapeRecord at 0x108d8ebd0>,\n",
       " <shapefile.ShapeRecord at 0x108d8ec10>,\n",
       " <shapefile.ShapeRecord at 0x108d8ec50>,\n",
       " <shapefile.ShapeRecord at 0x108d8ec90>,\n",
       " <shapefile.ShapeRecord at 0x108d8ecd0>,\n",
       " <shapefile.ShapeRecord at 0x108d8ed10>,\n",
       " <shapefile.ShapeRecord at 0x108d8ed50>,\n",
       " <shapefile.ShapeRecord at 0x108d8ed90>,\n",
       " <shapefile.ShapeRecord at 0x108d8edd0>,\n",
       " <shapefile.ShapeRecord at 0x108d8ee10>,\n",
       " <shapefile.ShapeRecord at 0x108d8ee50>,\n",
       " <shapefile.ShapeRecord at 0x108d8ee90>,\n",
       " <shapefile.ShapeRecord at 0x108d8eed0>,\n",
       " <shapefile.ShapeRecord at 0x108d8ef10>,\n",
       " <shapefile.ShapeRecord at 0x108d8ef50>,\n",
       " <shapefile.ShapeRecord at 0x108d8ef90>,\n",
       " <shapefile.ShapeRecord at 0x108d8efd0>,\n",
       " <shapefile.ShapeRecord at 0x108dd8050>,\n",
       " <shapefile.ShapeRecord at 0x108dd8090>,\n",
       " <shapefile.ShapeRecord at 0x108dd80d0>,\n",
       " <shapefile.ShapeRecord at 0x108dd8110>,\n",
       " <shapefile.ShapeRecord at 0x108dd8150>,\n",
       " <shapefile.ShapeRecord at 0x108dd8190>,\n",
       " <shapefile.ShapeRecord at 0x108dd81d0>,\n",
       " <shapefile.ShapeRecord at 0x108dd8210>,\n",
       " <shapefile.ShapeRecord at 0x108dd8250>,\n",
       " <shapefile.ShapeRecord at 0x108dd8290>,\n",
       " <shapefile.ShapeRecord at 0x108dd82d0>,\n",
       " <shapefile.ShapeRecord at 0x108dd8310>,\n",
       " <shapefile.ShapeRecord at 0x108dd8350>,\n",
       " <shapefile.ShapeRecord at 0x108dd8390>,\n",
       " <shapefile.ShapeRecord at 0x108dd83d0>,\n",
       " <shapefile.ShapeRecord at 0x108dd8410>,\n",
       " <shapefile.ShapeRecord at 0x108dd8450>,\n",
       " <shapefile.ShapeRecord at 0x108dd8490>,\n",
       " <shapefile.ShapeRecord at 0x108dd84d0>,\n",
       " <shapefile.ShapeRecord at 0x108dd8510>,\n",
       " <shapefile.ShapeRecord at 0x108dd8550>,\n",
       " <shapefile.ShapeRecord at 0x108dd8590>,\n",
       " <shapefile.ShapeRecord at 0x108dd85d0>,\n",
       " <shapefile.ShapeRecord at 0x108dd8610>,\n",
       " <shapefile.ShapeRecord at 0x108dd8650>,\n",
       " <shapefile.ShapeRecord at 0x108dd8690>,\n",
       " <shapefile.ShapeRecord at 0x108dd86d0>,\n",
       " <shapefile.ShapeRecord at 0x108dd8710>,\n",
       " <shapefile.ShapeRecord at 0x108dd8750>,\n",
       " <shapefile.ShapeRecord at 0x108dd8790>,\n",
       " <shapefile.ShapeRecord at 0x108dd87d0>,\n",
       " <shapefile.ShapeRecord at 0x108dd8810>,\n",
       " <shapefile.ShapeRecord at 0x108dd8850>,\n",
       " <shapefile.ShapeRecord at 0x108dd8890>,\n",
       " <shapefile.ShapeRecord at 0x108dd88d0>,\n",
       " <shapefile.ShapeRecord at 0x108dd8910>,\n",
       " <shapefile.ShapeRecord at 0x108dd8950>,\n",
       " <shapefile.ShapeRecord at 0x108dd8990>,\n",
       " <shapefile.ShapeRecord at 0x108dd89d0>,\n",
       " <shapefile.ShapeRecord at 0x108dd8a10>,\n",
       " <shapefile.ShapeRecord at 0x108dd8a50>,\n",
       " <shapefile.ShapeRecord at 0x108dd8a90>,\n",
       " <shapefile.ShapeRecord at 0x108dd8ad0>,\n",
       " <shapefile.ShapeRecord at 0x108dd8b10>,\n",
       " <shapefile.ShapeRecord at 0x108dd8b50>,\n",
       " <shapefile.ShapeRecord at 0x108dd8b90>,\n",
       " <shapefile.ShapeRecord at 0x108dd8bd0>,\n",
       " <shapefile.ShapeRecord at 0x108dd8c10>,\n",
       " <shapefile.ShapeRecord at 0x108dd8c50>,\n",
       " <shapefile.ShapeRecord at 0x108dd8c90>,\n",
       " <shapefile.ShapeRecord at 0x108dd8cd0>,\n",
       " <shapefile.ShapeRecord at 0x108dd8d10>,\n",
       " <shapefile.ShapeRecord at 0x108dd8d50>,\n",
       " <shapefile.ShapeRecord at 0x108dd8d90>,\n",
       " <shapefile.ShapeRecord at 0x108dd8dd0>,\n",
       " <shapefile.ShapeRecord at 0x108dd8e10>,\n",
       " <shapefile.ShapeRecord at 0x108dd8e50>,\n",
       " <shapefile.ShapeRecord at 0x108dd8e90>,\n",
       " <shapefile.ShapeRecord at 0x108dd8ed0>,\n",
       " <shapefile.ShapeRecord at 0x108dd8f10>,\n",
       " <shapefile.ShapeRecord at 0x108dd8f50>,\n",
       " <shapefile.ShapeRecord at 0x108dd8f90>,\n",
       " <shapefile.ShapeRecord at 0x108dd8fd0>,\n",
       " <shapefile.ShapeRecord at 0x108dde050>,\n",
       " <shapefile.ShapeRecord at 0x108dde090>,\n",
       " <shapefile.ShapeRecord at 0x108dde0d0>,\n",
       " <shapefile.ShapeRecord at 0x108dde110>,\n",
       " <shapefile.ShapeRecord at 0x108dde150>,\n",
       " <shapefile.ShapeRecord at 0x108dde190>,\n",
       " <shapefile.ShapeRecord at 0x108dde1d0>,\n",
       " <shapefile.ShapeRecord at 0x108dde210>,\n",
       " <shapefile.ShapeRecord at 0x108dde250>,\n",
       " <shapefile.ShapeRecord at 0x108dde290>,\n",
       " <shapefile.ShapeRecord at 0x108dde2d0>,\n",
       " <shapefile.ShapeRecord at 0x108dde310>,\n",
       " <shapefile.ShapeRecord at 0x108dde350>,\n",
       " <shapefile.ShapeRecord at 0x108dde390>,\n",
       " <shapefile.ShapeRecord at 0x108dde3d0>,\n",
       " <shapefile.ShapeRecord at 0x108dde410>,\n",
       " <shapefile.ShapeRecord at 0x108dde450>,\n",
       " <shapefile.ShapeRecord at 0x108dde490>,\n",
       " <shapefile.ShapeRecord at 0x108dde4d0>,\n",
       " <shapefile.ShapeRecord at 0x108dde510>,\n",
       " <shapefile.ShapeRecord at 0x108dde550>,\n",
       " <shapefile.ShapeRecord at 0x108dde590>,\n",
       " <shapefile.ShapeRecord at 0x108dde5d0>,\n",
       " <shapefile.ShapeRecord at 0x108dde610>,\n",
       " <shapefile.ShapeRecord at 0x108dde650>,\n",
       " <shapefile.ShapeRecord at 0x108dde690>,\n",
       " <shapefile.ShapeRecord at 0x108dde6d0>,\n",
       " <shapefile.ShapeRecord at 0x108dde710>,\n",
       " <shapefile.ShapeRecord at 0x108dde750>,\n",
       " <shapefile.ShapeRecord at 0x108dde790>,\n",
       " <shapefile.ShapeRecord at 0x108dde7d0>,\n",
       " <shapefile.ShapeRecord at 0x108dde810>,\n",
       " <shapefile.ShapeRecord at 0x108dde850>,\n",
       " <shapefile.ShapeRecord at 0x108dde890>,\n",
       " <shapefile.ShapeRecord at 0x108dde8d0>,\n",
       " <shapefile.ShapeRecord at 0x108dde910>,\n",
       " <shapefile.ShapeRecord at 0x108dde950>,\n",
       " <shapefile.ShapeRecord at 0x108dde990>,\n",
       " <shapefile.ShapeRecord at 0x108dde9d0>,\n",
       " <shapefile.ShapeRecord at 0x108ddea10>,\n",
       " <shapefile.ShapeRecord at 0x108ddea50>,\n",
       " <shapefile.ShapeRecord at 0x108ddea90>,\n",
       " <shapefile.ShapeRecord at 0x108ddead0>,\n",
       " <shapefile.ShapeRecord at 0x108ddeb10>,\n",
       " <shapefile.ShapeRecord at 0x108ddeb50>,\n",
       " <shapefile.ShapeRecord at 0x108ddeb90>,\n",
       " <shapefile.ShapeRecord at 0x108ddebd0>,\n",
       " <shapefile.ShapeRecord at 0x108ddec10>,\n",
       " <shapefile.ShapeRecord at 0x108ddec50>,\n",
       " <shapefile.ShapeRecord at 0x108ddec90>,\n",
       " <shapefile.ShapeRecord at 0x108ddecd0>,\n",
       " <shapefile.ShapeRecord at 0x108dded10>,\n",
       " <shapefile.ShapeRecord at 0x108dded50>,\n",
       " <shapefile.ShapeRecord at 0x108dded90>,\n",
       " <shapefile.ShapeRecord at 0x108ddedd0>,\n",
       " <shapefile.ShapeRecord at 0x108ddee10>,\n",
       " <shapefile.ShapeRecord at 0x108ddee50>,\n",
       " <shapefile.ShapeRecord at 0x108ddee90>,\n",
       " <shapefile.ShapeRecord at 0x108ddeed0>,\n",
       " <shapefile.ShapeRecord at 0x108ddef10>,\n",
       " <shapefile.ShapeRecord at 0x108ddef50>,\n",
       " <shapefile.ShapeRecord at 0x108ddef90>,\n",
       " <shapefile.ShapeRecord at 0x108ddefd0>,\n",
       " <shapefile.ShapeRecord at 0x108de3050>,\n",
       " <shapefile.ShapeRecord at 0x108de3090>,\n",
       " <shapefile.ShapeRecord at 0x108de30d0>,\n",
       " <shapefile.ShapeRecord at 0x108de3110>,\n",
       " <shapefile.ShapeRecord at 0x108de3150>,\n",
       " <shapefile.ShapeRecord at 0x108de3190>,\n",
       " <shapefile.ShapeRecord at 0x108de31d0>,\n",
       " <shapefile.ShapeRecord at 0x108de3210>,\n",
       " <shapefile.ShapeRecord at 0x108de3250>,\n",
       " <shapefile.ShapeRecord at 0x108de3290>,\n",
       " <shapefile.ShapeRecord at 0x108de32d0>,\n",
       " <shapefile.ShapeRecord at 0x108de3310>,\n",
       " <shapefile.ShapeRecord at 0x108de3350>,\n",
       " <shapefile.ShapeRecord at 0x108de3390>,\n",
       " <shapefile.ShapeRecord at 0x108de33d0>,\n",
       " <shapefile.ShapeRecord at 0x108de3410>,\n",
       " <shapefile.ShapeRecord at 0x108de3450>,\n",
       " <shapefile.ShapeRecord at 0x108de3490>,\n",
       " <shapefile.ShapeRecord at 0x108de34d0>,\n",
       " <shapefile.ShapeRecord at 0x108de3510>,\n",
       " <shapefile.ShapeRecord at 0x108de3550>,\n",
       " <shapefile.ShapeRecord at 0x108de3590>,\n",
       " <shapefile.ShapeRecord at 0x108de35d0>,\n",
       " <shapefile.ShapeRecord at 0x108de3610>,\n",
       " <shapefile.ShapeRecord at 0x108de3650>,\n",
       " <shapefile.ShapeRecord at 0x108de3690>,\n",
       " <shapefile.ShapeRecord at 0x108de36d0>,\n",
       " <shapefile.ShapeRecord at 0x108de3710>,\n",
       " <shapefile.ShapeRecord at 0x108de3750>,\n",
       " <shapefile.ShapeRecord at 0x108de3790>,\n",
       " <shapefile.ShapeRecord at 0x108de37d0>,\n",
       " <shapefile.ShapeRecord at 0x108de3810>,\n",
       " <shapefile.ShapeRecord at 0x108de3850>,\n",
       " <shapefile.ShapeRecord at 0x108de3890>,\n",
       " <shapefile.ShapeRecord at 0x108de38d0>,\n",
       " <shapefile.ShapeRecord at 0x108de3910>,\n",
       " <shapefile.ShapeRecord at 0x108de3950>,\n",
       " <shapefile.ShapeRecord at 0x108de3990>,\n",
       " <shapefile.ShapeRecord at 0x108de39d0>,\n",
       " <shapefile.ShapeRecord at 0x108de3a10>,\n",
       " <shapefile.ShapeRecord at 0x108de3a50>,\n",
       " <shapefile.ShapeRecord at 0x108de3a90>,\n",
       " <shapefile.ShapeRecord at 0x108de3ad0>,\n",
       " <shapefile.ShapeRecord at 0x108de3b10>,\n",
       " <shapefile.ShapeRecord at 0x108de3b50>,\n",
       " <shapefile.ShapeRecord at 0x108de3b90>,\n",
       " <shapefile.ShapeRecord at 0x108de3bd0>,\n",
       " <shapefile.ShapeRecord at 0x108de3c10>,\n",
       " <shapefile.ShapeRecord at 0x108de3c50>,\n",
       " <shapefile.ShapeRecord at 0x108de3c90>,\n",
       " <shapefile.ShapeRecord at 0x108de3cd0>,\n",
       " <shapefile.ShapeRecord at 0x108de3d10>,\n",
       " <shapefile.ShapeRecord at 0x108de3d50>,\n",
       " <shapefile.ShapeRecord at 0x108de3d90>,\n",
       " <shapefile.ShapeRecord at 0x108de3dd0>,\n",
       " <shapefile.ShapeRecord at 0x108de3e10>,\n",
       " <shapefile.ShapeRecord at 0x108de3e50>,\n",
       " <shapefile.ShapeRecord at 0x108de3e90>,\n",
       " <shapefile.ShapeRecord at 0x108de3ed0>,\n",
       " <shapefile.ShapeRecord at 0x108de3f10>,\n",
       " <shapefile.ShapeRecord at 0x108de3f50>,\n",
       " <shapefile.ShapeRecord at 0x108de3f90>,\n",
       " <shapefile.ShapeRecord at 0x108de3fd0>,\n",
       " <shapefile.ShapeRecord at 0x108de9050>,\n",
       " <shapefile.ShapeRecord at 0x108de9090>,\n",
       " <shapefile.ShapeRecord at 0x108de90d0>,\n",
       " <shapefile.ShapeRecord at 0x108de9110>,\n",
       " <shapefile.ShapeRecord at 0x108de9150>,\n",
       " <shapefile.ShapeRecord at 0x108de9190>,\n",
       " <shapefile.ShapeRecord at 0x108de91d0>,\n",
       " <shapefile.ShapeRecord at 0x108de9210>,\n",
       " <shapefile.ShapeRecord at 0x108de9250>,\n",
       " <shapefile.ShapeRecord at 0x108de9290>,\n",
       " <shapefile.ShapeRecord at 0x108de92d0>,\n",
       " <shapefile.ShapeRecord at 0x108de9310>,\n",
       " <shapefile.ShapeRecord at 0x108de9350>,\n",
       " <shapefile.ShapeRecord at 0x108de9390>,\n",
       " <shapefile.ShapeRecord at 0x108de93d0>,\n",
       " <shapefile.ShapeRecord at 0x108de9410>,\n",
       " <shapefile.ShapeRecord at 0x108de9450>,\n",
       " <shapefile.ShapeRecord at 0x108de9490>,\n",
       " <shapefile.ShapeRecord at 0x108de94d0>,\n",
       " <shapefile.ShapeRecord at 0x108de9510>,\n",
       " <shapefile.ShapeRecord at 0x108de9550>,\n",
       " <shapefile.ShapeRecord at 0x108de9590>,\n",
       " <shapefile.ShapeRecord at 0x108de95d0>,\n",
       " <shapefile.ShapeRecord at 0x108de9610>,\n",
       " <shapefile.ShapeRecord at 0x108de9650>,\n",
       " <shapefile.ShapeRecord at 0x108de9690>,\n",
       " <shapefile.ShapeRecord at 0x108de96d0>,\n",
       " <shapefile.ShapeRecord at 0x108de9710>,\n",
       " <shapefile.ShapeRecord at 0x108de9750>,\n",
       " <shapefile.ShapeRecord at 0x108de9790>,\n",
       " <shapefile.ShapeRecord at 0x108de97d0>,\n",
       " <shapefile.ShapeRecord at 0x108de9810>,\n",
       " <shapefile.ShapeRecord at 0x108de9850>,\n",
       " <shapefile.ShapeRecord at 0x108de9890>,\n",
       " <shapefile.ShapeRecord at 0x108de98d0>,\n",
       " <shapefile.ShapeRecord at 0x108de9910>,\n",
       " <shapefile.ShapeRecord at 0x108de9950>,\n",
       " <shapefile.ShapeRecord at 0x108de9990>,\n",
       " <shapefile.ShapeRecord at 0x108de99d0>,\n",
       " <shapefile.ShapeRecord at 0x108de9a10>,\n",
       " <shapefile.ShapeRecord at 0x108de9a50>,\n",
       " <shapefile.ShapeRecord at 0x108de9a90>,\n",
       " <shapefile.ShapeRecord at 0x108de9ad0>,\n",
       " <shapefile.ShapeRecord at 0x108de9b10>,\n",
       " <shapefile.ShapeRecord at 0x108de9b50>,\n",
       " <shapefile.ShapeRecord at 0x108de9b90>,\n",
       " <shapefile.ShapeRecord at 0x108de9bd0>,\n",
       " <shapefile.ShapeRecord at 0x108de9c10>,\n",
       " <shapefile.ShapeRecord at 0x108de9c50>,\n",
       " <shapefile.ShapeRecord at 0x108de9c90>,\n",
       " <shapefile.ShapeRecord at 0x108de9cd0>,\n",
       " <shapefile.ShapeRecord at 0x108de9d10>,\n",
       " <shapefile.ShapeRecord at 0x108de9d50>,\n",
       " <shapefile.ShapeRecord at 0x108de9d90>,\n",
       " <shapefile.ShapeRecord at 0x108de9dd0>,\n",
       " <shapefile.ShapeRecord at 0x108de9e10>,\n",
       " <shapefile.ShapeRecord at 0x108de9e50>,\n",
       " <shapefile.ShapeRecord at 0x108de9e90>]"
      ]
     },
     "execution_count": 16,
     "metadata": {},
     "output_type": "execute_result"
    }
   ],
   "source": [
    "shapeRecs"
   ]
  },
  {
   "cell_type": "code",
   "execution_count": 20,
   "metadata": {},
   "outputs": [
    {
     "ename": "TypeError",
     "evalue": "dict expected at most 1 arguments, got 5",
     "output_type": "error",
     "traceback": [
      "\u001b[0;31m---------------------------------------------------------------------------\u001b[0m",
      "\u001b[0;31mTypeError\u001b[0m                                 Traceback (most recent call last)",
      "\u001b[0;32m<ipython-input-20-df7289ef4a84>\u001b[0m in \u001b[0;36m<module>\u001b[0;34m()\u001b[0m\n\u001b[0;32m----> 1\u001b[0;31m \u001b[0msf\u001b[0m\u001b[0;34m.\u001b[0m\u001b[0m__geo_interface__\u001b[0m\u001b[0;34m[\u001b[0m\u001b[0;34m'type'\u001b[0m\u001b[0;34m]\u001b[0m\u001b[0;34m\u001b[0m\u001b[0m\n\u001b[0m\u001b[1;32m      2\u001b[0m \u001b[0;34m'FeatureCollection'\u001b[0m\u001b[0;34m\u001b[0m\u001b[0m\n",
      "\u001b[0;32m/anaconda3/lib/python2.7/site-packages/shapefile.pyc\u001b[0m in \u001b[0;36m__geo_interface__\u001b[0;34m(self)\u001b[0m\n\u001b[1;32m    587\u001b[0m             fdict = {'type': 'Feature',\n\u001b[1;32m    588\u001b[0m                      'properties': dict(*zip(fieldnames,\n\u001b[0;32m--> 589\u001b[0;31m                                              \u001b[0mlist\u001b[0m\u001b[0;34m(\u001b[0m\u001b[0mfeat\u001b[0m\u001b[0;34m.\u001b[0m\u001b[0mrecord\u001b[0m\u001b[0;34m)\u001b[0m\u001b[0;34m\u001b[0m\u001b[0m\n\u001b[0m\u001b[1;32m    590\u001b[0m                                              )),\n\u001b[1;32m    591\u001b[0m                      'geometry': feat.shape.__geo_interface__}\n",
      "\u001b[0;31mTypeError\u001b[0m: dict expected at most 1 arguments, got 5"
     ]
    }
   ],
   "source": [
    "sf.__geo_interface__['type']\n",
    "'FeatureCollection'"
   ]
  },
  {
   "cell_type": "code",
   "execution_count": 21,
   "metadata": {},
   "outputs": [
    {
     "ename": "TypeError",
     "evalue": "dict expected at most 1 arguments, got 5",
     "output_type": "error",
     "traceback": [
      "\u001b[0;31m---------------------------------------------------------------------------\u001b[0m",
      "\u001b[0;31mTypeError\u001b[0m                                 Traceback (most recent call last)",
      "\u001b[0;32m<ipython-input-21-df7289ef4a84>\u001b[0m in \u001b[0;36m<module>\u001b[0;34m()\u001b[0m\n\u001b[0;32m----> 1\u001b[0;31m \u001b[0msf\u001b[0m\u001b[0;34m.\u001b[0m\u001b[0m__geo_interface__\u001b[0m\u001b[0;34m[\u001b[0m\u001b[0;34m'type'\u001b[0m\u001b[0;34m]\u001b[0m\u001b[0;34m\u001b[0m\u001b[0m\n\u001b[0m\u001b[1;32m      2\u001b[0m \u001b[0;34m'FeatureCollection'\u001b[0m\u001b[0;34m\u001b[0m\u001b[0m\n",
      "\u001b[0;32m/anaconda3/lib/python2.7/site-packages/shapefile.pyc\u001b[0m in \u001b[0;36m__geo_interface__\u001b[0;34m(self)\u001b[0m\n\u001b[1;32m    587\u001b[0m             fdict = {'type': 'Feature',\n\u001b[1;32m    588\u001b[0m                      'properties': dict(*zip(fieldnames,\n\u001b[0;32m--> 589\u001b[0;31m                                              \u001b[0mlist\u001b[0m\u001b[0;34m(\u001b[0m\u001b[0mfeat\u001b[0m\u001b[0;34m.\u001b[0m\u001b[0mrecord\u001b[0m\u001b[0;34m)\u001b[0m\u001b[0;34m\u001b[0m\u001b[0m\n\u001b[0m\u001b[1;32m    590\u001b[0m                                              )),\n\u001b[1;32m    591\u001b[0m                      'geometry': feat.shape.__geo_interface__}\n",
      "\u001b[0;31mTypeError\u001b[0m: dict expected at most 1 arguments, got 5"
     ]
    }
   ],
   "source": [
    ">>> sf.__geo_interface__['type']\n",
    "'FeatureCollection'"
   ]
  },
  {
   "cell_type": "code",
   "execution_count": 22,
   "metadata": {},
   "outputs": [
    {
     "data": {
      "text/plain": [
       "'MultiPolygon'"
      ]
     },
     "execution_count": 22,
     "metadata": {},
     "output_type": "execute_result"
    }
   ],
   "source": [
    ">>> s = sf.shape(0)\n",
    ">>> geoj = s.__geo_interface__\n",
    ">>> geoj[\"type\"]\n",
    "'MultiPolygon'"
   ]
  },
  {
   "cell_type": "code",
   "execution_count": 23,
   "metadata": {},
   "outputs": [
    {
     "ename": "NameError",
     "evalue": "name 'shapes' is not defined",
     "output_type": "error",
     "traceback": [
      "\u001b[0;31m---------------------------------------------------------------------------\u001b[0m",
      "\u001b[0;31mNameError\u001b[0m                                 Traceback (most recent call last)",
      "\u001b[0;32m<ipython-input-23-8001eb72b230>\u001b[0m in \u001b[0;36m<module>\u001b[0;34m()\u001b[0m\n\u001b[0;32m----> 1\u001b[0;31m \u001b[0mshapes\u001b[0m\u001b[0;34m.\u001b[0m\u001b[0m__geo_interface__\u001b[0m\u001b[0;34m[\u001b[0m\u001b[0;34m'type'\u001b[0m\u001b[0;34m]\u001b[0m\u001b[0;34m\u001b[0m\u001b[0m\n\u001b[0m\u001b[1;32m      2\u001b[0m \u001b[0;34m'GeometryCollection'\u001b[0m\u001b[0;34m\u001b[0m\u001b[0m\n",
      "\u001b[0;31mNameError\u001b[0m: name 'shapes' is not defined"
     ]
    }
   ],
   "source": [
    ">>> shapes.__geo_interface__['type']\n",
    "'GeometryCollection'"
   ]
  },
  {
   "cell_type": "code",
   "execution_count": 24,
   "metadata": {},
   "outputs": [],
   "source": [
    "import pandas as pd, requests, json"
   ]
  },
  {
   "cell_type": "code",
   "execution_count": null,
   "metadata": {},
   "outputs": [],
   "source": []
  }
 ],
 "metadata": {
  "kernelspec": {
   "display_name": "Python 2",
   "language": "python",
   "name": "python2"
  },
  "language_info": {
   "codemirror_mode": {
    "name": "ipython",
    "version": 2
   },
   "file_extension": ".py",
   "mimetype": "text/x-python",
   "name": "python",
   "nbconvert_exporter": "python",
   "pygments_lexer": "ipython2",
   "version": "2.7.15"
  }
 },
 "nbformat": 4,
 "nbformat_minor": 2
}
